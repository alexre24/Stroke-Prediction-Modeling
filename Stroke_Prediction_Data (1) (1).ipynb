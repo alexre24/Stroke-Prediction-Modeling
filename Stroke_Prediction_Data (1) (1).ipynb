{
 "cells": [
  {
   "cell_type": "markdown",
   "metadata": {
    "colab_type": "text",
    "id": "view-in-github"
   },
   "source": [
    "<a href=\"https://colab.research.google.com/github/alexre24/Stroke-Prediction-Modeling/blob/main/Stroke_Prediction_Data.ipynb\" target=\"_parent\"><img src=\"https://colab.research.google.com/assets/colab-badge.svg\" alt=\"Open In Colab\"/></a>"
   ]
  },
  {
   "cell_type": "markdown",
   "metadata": {
    "id": "wpAQQWfxMy6t"
   },
   "source": [
    "# Stroke Prediction Modeling\n",
    "#### In this project, I have created and tuned multiple models to predict if a patient will or will not have a stroke based on characteristics of the patient. "
   ]
  },
  {
   "cell_type": "markdown",
   "metadata": {},
   "source": [
    "## Import Libraries"
   ]
  },
  {
   "cell_type": "code",
   "execution_count": 75,
   "metadata": {
    "id": "sR9EfBKsWdqs"
   },
   "outputs": [],
   "source": [
    "import matplotlib.pyplot as plt \n",
    "import seaborn as sns\n",
    "import pandas as pd \n",
    "import numpy as np\n",
    "import sys\n",
    "from sklearn.model_selection import train_test_split, GridSearchCV \n",
    "\n",
    "from sklearn.preprocessing import StandardScaler, OneHotEncoder\n",
    "from sklearn.model_selection import train_test_split\n",
    "from sklearn.compose import make_column_selector, make_column_transformer\n",
    "from sklearn.pipeline import make_pipeline\n",
    "from sklearn.impute import SimpleImputer\n",
    "from sklearn.metrics import ConfusionMatrixDisplay, classification_report\n",
    "\n",
    "#Classification Libraries\n",
    "from sklearn.neighbors import KNeighborsClassifier\n",
    "from sklearn.tree import DecisionTreeClassifier\n",
    "\n",
    "import scipy.stats as stats"
   ]
  },
  {
   "cell_type": "markdown",
   "metadata": {
    "id": "OjHJT5K8WjjD"
   },
   "source": [
    "## Loading Data"
   ]
  },
  {
   "cell_type": "code",
   "execution_count": 2,
   "metadata": {
    "colab": {
     "base_uri": "https://localhost:8080/",
     "height": 206
    },
    "id": "e5WjJVayWhsW",
    "outputId": "002bc2e4-b956-4dde-8039-473f997a5bc0"
   },
   "outputs": [
    {
     "data": {
      "text/html": [
       "<div>\n",
       "<style scoped>\n",
       "    .dataframe tbody tr th:only-of-type {\n",
       "        vertical-align: middle;\n",
       "    }\n",
       "\n",
       "    .dataframe tbody tr th {\n",
       "        vertical-align: top;\n",
       "    }\n",
       "\n",
       "    .dataframe thead th {\n",
       "        text-align: right;\n",
       "    }\n",
       "</style>\n",
       "<table border=\"1\" class=\"dataframe\">\n",
       "  <thead>\n",
       "    <tr style=\"text-align: right;\">\n",
       "      <th></th>\n",
       "      <th>id</th>\n",
       "      <th>gender</th>\n",
       "      <th>age</th>\n",
       "      <th>hypertension</th>\n",
       "      <th>heart_disease</th>\n",
       "      <th>ever_married</th>\n",
       "      <th>work_type</th>\n",
       "      <th>Residence_type</th>\n",
       "      <th>avg_glucose_level</th>\n",
       "      <th>bmi</th>\n",
       "      <th>smoking_status</th>\n",
       "      <th>stroke</th>\n",
       "    </tr>\n",
       "  </thead>\n",
       "  <tbody>\n",
       "    <tr>\n",
       "      <th>0</th>\n",
       "      <td>9046</td>\n",
       "      <td>Male</td>\n",
       "      <td>67.0</td>\n",
       "      <td>0</td>\n",
       "      <td>1</td>\n",
       "      <td>Yes</td>\n",
       "      <td>Private</td>\n",
       "      <td>Urban</td>\n",
       "      <td>228.69</td>\n",
       "      <td>36.6</td>\n",
       "      <td>formerly smoked</td>\n",
       "      <td>1</td>\n",
       "    </tr>\n",
       "    <tr>\n",
       "      <th>1</th>\n",
       "      <td>51676</td>\n",
       "      <td>Female</td>\n",
       "      <td>61.0</td>\n",
       "      <td>0</td>\n",
       "      <td>0</td>\n",
       "      <td>Yes</td>\n",
       "      <td>Self-employed</td>\n",
       "      <td>Rural</td>\n",
       "      <td>202.21</td>\n",
       "      <td>NaN</td>\n",
       "      <td>never smoked</td>\n",
       "      <td>1</td>\n",
       "    </tr>\n",
       "    <tr>\n",
       "      <th>2</th>\n",
       "      <td>31112</td>\n",
       "      <td>Male</td>\n",
       "      <td>80.0</td>\n",
       "      <td>0</td>\n",
       "      <td>1</td>\n",
       "      <td>Yes</td>\n",
       "      <td>Private</td>\n",
       "      <td>Rural</td>\n",
       "      <td>105.92</td>\n",
       "      <td>32.5</td>\n",
       "      <td>never smoked</td>\n",
       "      <td>1</td>\n",
       "    </tr>\n",
       "    <tr>\n",
       "      <th>3</th>\n",
       "      <td>60182</td>\n",
       "      <td>Female</td>\n",
       "      <td>49.0</td>\n",
       "      <td>0</td>\n",
       "      <td>0</td>\n",
       "      <td>Yes</td>\n",
       "      <td>Private</td>\n",
       "      <td>Urban</td>\n",
       "      <td>171.23</td>\n",
       "      <td>34.4</td>\n",
       "      <td>smokes</td>\n",
       "      <td>1</td>\n",
       "    </tr>\n",
       "    <tr>\n",
       "      <th>4</th>\n",
       "      <td>1665</td>\n",
       "      <td>Female</td>\n",
       "      <td>79.0</td>\n",
       "      <td>1</td>\n",
       "      <td>0</td>\n",
       "      <td>Yes</td>\n",
       "      <td>Self-employed</td>\n",
       "      <td>Rural</td>\n",
       "      <td>174.12</td>\n",
       "      <td>24.0</td>\n",
       "      <td>never smoked</td>\n",
       "      <td>1</td>\n",
       "    </tr>\n",
       "  </tbody>\n",
       "</table>\n",
       "</div>"
      ],
      "text/plain": [
       "      id  gender   age  hypertension  heart_disease ever_married  \\\n",
       "0   9046    Male  67.0             0              1          Yes   \n",
       "1  51676  Female  61.0             0              0          Yes   \n",
       "2  31112    Male  80.0             0              1          Yes   \n",
       "3  60182  Female  49.0             0              0          Yes   \n",
       "4   1665  Female  79.0             1              0          Yes   \n",
       "\n",
       "       work_type Residence_type  avg_glucose_level   bmi   smoking_status  \\\n",
       "0        Private          Urban             228.69  36.6  formerly smoked   \n",
       "1  Self-employed          Rural             202.21   NaN     never smoked   \n",
       "2        Private          Rural             105.92  32.5     never smoked   \n",
       "3        Private          Urban             171.23  34.4           smokes   \n",
       "4  Self-employed          Rural             174.12  24.0     never smoked   \n",
       "\n",
       "   stroke  \n",
       "0       1  \n",
       "1       1  \n",
       "2       1  \n",
       "3       1  \n",
       "4       1  "
      ]
     },
     "execution_count": 2,
     "metadata": {},
     "output_type": "execute_result"
    }
   ],
   "source": [
    "path = 'healthcare-dataset-stroke-data 2.csv'\n",
    "stroke_df = pd.read_csv(path)\n",
    "stroke_df.head()"
   ]
  },
  {
   "cell_type": "markdown",
   "metadata": {
    "id": "FEmw5PZRWrep"
   },
   "source": [
    "## Data Cleaning"
   ]
  },
  {
   "cell_type": "code",
   "execution_count": 3,
   "metadata": {
    "colab": {
     "base_uri": "https://localhost:8080/"
    },
    "id": "Dy9UaWlRE9Ny",
    "outputId": "3059cebd-f10d-444d-e80e-80938f014277"
   },
   "outputs": [
    {
     "data": {
      "text/plain": [
       "0    4861\n",
       "1     249\n",
       "Name: stroke, dtype: int64"
      ]
     },
     "execution_count": 3,
     "metadata": {},
     "output_type": "execute_result"
    }
   ],
   "source": [
    "#This dataset is very imbalanced\n",
    "stroke_df['stroke'].value_counts()"
   ]
  },
  {
   "cell_type": "code",
   "execution_count": 4,
   "metadata": {
    "colab": {
     "base_uri": "https://localhost:8080/"
    },
    "id": "aBihHObHWtTD",
    "outputId": "efc55635-c834-410a-de2e-098561b75b4a"
   },
   "outputs": [
    {
     "name": "stdout",
     "output_type": "stream",
     "text": [
      "<class 'pandas.core.frame.DataFrame'>\n",
      "RangeIndex: 5110 entries, 0 to 5109\n",
      "Data columns (total 12 columns):\n",
      " #   Column             Non-Null Count  Dtype  \n",
      "---  ------             --------------  -----  \n",
      " 0   id                 5110 non-null   int64  \n",
      " 1   gender             5110 non-null   object \n",
      " 2   age                5110 non-null   float64\n",
      " 3   hypertension       5110 non-null   int64  \n",
      " 4   heart_disease      5110 non-null   int64  \n",
      " 5   ever_married       5110 non-null   object \n",
      " 6   work_type          5110 non-null   object \n",
      " 7   Residence_type     5110 non-null   object \n",
      " 8   avg_glucose_level  5110 non-null   float64\n",
      " 9   bmi                4909 non-null   float64\n",
      " 10  smoking_status     5110 non-null   object \n",
      " 11  stroke             5110 non-null   int64  \n",
      "dtypes: float64(3), int64(4), object(5)\n",
      "memory usage: 479.2+ KB\n"
     ]
    }
   ],
   "source": [
    "stroke_df.info()"
   ]
  },
  {
   "cell_type": "markdown",
   "metadata": {
    "id": "3YxmpZJXWvpF"
   },
   "source": [
    "- There are 12 columns and 5110 rows\n",
    "- The bmi column is missing data, which will have to be dealt with using Simple Imputer"
   ]
  },
  {
   "cell_type": "code",
   "execution_count": 5,
   "metadata": {
    "id": "f9v-Iy30o1_2"
   },
   "outputs": [],
   "source": [
    "#Dropping unnecessary columns\n",
    "stroke_df = stroke_df.drop(columns = 'id')"
   ]
  },
  {
   "cell_type": "code",
   "execution_count": 6,
   "metadata": {
    "colab": {
     "base_uri": "https://localhost:8080/"
    },
    "id": "4mwiaBiSXKjX",
    "outputId": "9c3c7c39-b1b8-457c-fb70-99ee6936202a"
   },
   "outputs": [
    {
     "name": "stdout",
     "output_type": "stream",
     "text": [
      "There are 201 missing values.\n"
     ]
    }
   ],
   "source": [
    "#Checking for missing values\n",
    "print(f'There are {stroke_df.isna().sum().sum()} missing values.')"
   ]
  },
  {
   "cell_type": "code",
   "execution_count": 7,
   "metadata": {
    "colab": {
     "base_uri": "https://localhost:8080/"
    },
    "id": "ms0gVu_ZW48b",
    "outputId": "6eb71b09-ddab-4971-cf6b-dcd1f4fa7393"
   },
   "outputs": [
    {
     "data": {
      "text/plain": [
       "0    0.951272\n",
       "1    0.048728\n",
       "Name: stroke, dtype: float64"
      ]
     },
     "execution_count": 7,
     "metadata": {},
     "output_type": "execute_result"
    }
   ],
   "source": [
    "# Getting the balance of data for the target values\n",
    "stroke_df['stroke'].value_counts(normalize = True)"
   ]
  },
  {
   "cell_type": "markdown",
   "metadata": {
    "id": "U5jLtkmQXDxN"
   },
   "source": [
    "- This data is extremely unbalanced- 95% of data points are in the 0 class"
   ]
  },
  {
   "cell_type": "code",
   "execution_count": 8,
   "metadata": {
    "colab": {
     "base_uri": "https://localhost:8080/"
    },
    "id": "jz338TrYnJxM",
    "outputId": "020a2d33-58b5-4b29-9964-c23bfb397233"
   },
   "outputs": [
    {
     "name": "stdout",
     "output_type": "stream",
     "text": [
      "There are 0 duplicates.\n"
     ]
    }
   ],
   "source": [
    "#Check for duplicates\n",
    "print(f'There are {stroke_df.duplicated().sum()} duplicates.')"
   ]
  },
  {
   "cell_type": "code",
   "execution_count": 9,
   "metadata": {
    "colab": {
     "base_uri": "https://localhost:8080/"
    },
    "id": "hv5ItQ1HnV9x",
    "outputId": "a65a7fad-4468-4549-a5e7-69e146b11a0a"
   },
   "outputs": [
    {
     "data": {
      "text/plain": [
       "gender                object\n",
       "age                  float64\n",
       "hypertension           int64\n",
       "heart_disease          int64\n",
       "ever_married          object\n",
       "work_type             object\n",
       "Residence_type        object\n",
       "avg_glucose_level    float64\n",
       "bmi                  float64\n",
       "smoking_status        object\n",
       "stroke                 int64\n",
       "dtype: object"
      ]
     },
     "execution_count": 9,
     "metadata": {},
     "output_type": "execute_result"
    }
   ],
   "source": [
    "#Check the data types of each column\n",
    "stroke_df.dtypes"
   ]
  },
  {
   "cell_type": "code",
   "execution_count": 10,
   "metadata": {
    "colab": {
     "base_uri": "https://localhost:8080/"
    },
    "id": "Gk9cT4Nrnpia",
    "outputId": "6887c3fd-1f8c-4033-f253-9c9b9eef2aa1"
   },
   "outputs": [
    {
     "data": {
      "text/plain": [
       "Female    2994\n",
       "Male      2115\n",
       "Other        1\n",
       "Name: gender, dtype: int64"
      ]
     },
     "execution_count": 10,
     "metadata": {},
     "output_type": "execute_result"
    }
   ],
   "source": [
    "#Check for inconsistent values\n",
    "stroke_df['gender'].value_counts()"
   ]
  },
  {
   "cell_type": "code",
   "execution_count": 11,
   "metadata": {
    "colab": {
     "base_uri": "https://localhost:8080/"
    },
    "id": "WjJzKHFgOmGA",
    "outputId": "3630bfe2-1421-419e-924a-914dc8dffecd"
   },
   "outputs": [
    {
     "data": {
      "text/plain": [
       "Female    2994\n",
       "Male      2115\n",
       "Name: gender, dtype: int64"
      ]
     },
     "execution_count": 11,
     "metadata": {},
     "output_type": "execute_result"
    }
   ],
   "source": [
    "#Drop the \"Other\" column, as there is only one row here\n",
    "stroke_df.drop(stroke_df[(stroke_df['gender'] == 'Other')].index, inplace=True)\n",
    "stroke_df['gender'].value_counts()"
   ]
  },
  {
   "cell_type": "code",
   "execution_count": 12,
   "metadata": {
    "colab": {
     "base_uri": "https://localhost:8080/"
    },
    "id": "xH2Zfa7Fntkh",
    "outputId": "c2a2027b-0f7f-45a9-db2f-ed99dbf0c9bc"
   },
   "outputs": [
    {
     "data": {
      "text/plain": [
       "Yes    3353\n",
       "No     1756\n",
       "Name: ever_married, dtype: int64"
      ]
     },
     "execution_count": 12,
     "metadata": {},
     "output_type": "execute_result"
    }
   ],
   "source": [
    "stroke_df['ever_married'].value_counts()"
   ]
  },
  {
   "cell_type": "code",
   "execution_count": 13,
   "metadata": {
    "colab": {
     "base_uri": "https://localhost:8080/"
    },
    "id": "o69T_5A3nyCe",
    "outputId": "2e9cffc2-a769-40f1-c713-9e9e03eb9ea5"
   },
   "outputs": [
    {
     "data": {
      "text/plain": [
       "Urban    2596\n",
       "Rural    2513\n",
       "Name: Residence_type, dtype: int64"
      ]
     },
     "execution_count": 13,
     "metadata": {},
     "output_type": "execute_result"
    }
   ],
   "source": [
    "stroke_df['Residence_type'].value_counts()"
   ]
  },
  {
   "cell_type": "code",
   "execution_count": 14,
   "metadata": {
    "colab": {
     "base_uri": "https://localhost:8080/"
    },
    "id": "2DE7gUBJn3se",
    "outputId": "defe239c-73eb-496d-95b7-73f12fcb26f9"
   },
   "outputs": [
    {
     "data": {
      "text/plain": [
       "never smoked       1892\n",
       "Unknown            1544\n",
       "formerly smoked     884\n",
       "smokes              789\n",
       "Name: smoking_status, dtype: int64"
      ]
     },
     "execution_count": 14,
     "metadata": {},
     "output_type": "execute_result"
    }
   ],
   "source": [
    "stroke_df['smoking_status'].value_counts()"
   ]
  },
  {
   "cell_type": "code",
   "execution_count": 15,
   "metadata": {
    "colab": {
     "base_uri": "https://localhost:8080/"
    },
    "id": "USEBCMT4ogtx",
    "outputId": "5648ca6b-48d4-461f-eaab-17ca8e7b1470"
   },
   "outputs": [
    {
     "data": {
      "text/plain": [
       "Private          2924\n",
       "Self-employed     819\n",
       "children          687\n",
       "Govt_job          657\n",
       "Never_worked       22\n",
       "Name: work_type, dtype: int64"
      ]
     },
     "execution_count": 15,
     "metadata": {},
     "output_type": "execute_result"
    }
   ],
   "source": [
    "stroke_df['work_type'].value_counts()"
   ]
  },
  {
   "cell_type": "code",
   "execution_count": 16,
   "metadata": {
    "colab": {
     "base_uri": "https://localhost:8080/"
    },
    "id": "KDnUkfXsSqRz",
    "outputId": "ec8967a6-6e2d-44e0-8a01-e9729e3bb6a8"
   },
   "outputs": [
    {
     "data": {
      "text/plain": [
       "Private          2924\n",
       "Self-employed     819\n",
       "children          687\n",
       "Govt_job          657\n",
       "Name: work_type, dtype: int64"
      ]
     },
     "execution_count": 16,
     "metadata": {},
     "output_type": "execute_result"
    }
   ],
   "source": [
    "#Drop the \"Never_worked\" column, as there is only one row here\n",
    "stroke_df.drop(stroke_df[(stroke_df['work_type'] == 'Never_worked')].index, inplace=True)\n",
    "stroke_df['work_type'].value_counts()"
   ]
  },
  {
   "cell_type": "code",
   "execution_count": 17,
   "metadata": {
    "colab": {
     "base_uri": "https://localhost:8080/",
     "height": 300
    },
    "id": "KDdDucpsoDZg",
    "outputId": "152cb961-f74e-4d63-8bf0-7fa81d498271"
   },
   "outputs": [
    {
     "data": {
      "text/html": [
       "<div>\n",
       "<style scoped>\n",
       "    .dataframe tbody tr th:only-of-type {\n",
       "        vertical-align: middle;\n",
       "    }\n",
       "\n",
       "    .dataframe tbody tr th {\n",
       "        vertical-align: top;\n",
       "    }\n",
       "\n",
       "    .dataframe thead th {\n",
       "        text-align: right;\n",
       "    }\n",
       "</style>\n",
       "<table border=\"1\" class=\"dataframe\">\n",
       "  <thead>\n",
       "    <tr style=\"text-align: right;\">\n",
       "      <th></th>\n",
       "      <th>age</th>\n",
       "      <th>hypertension</th>\n",
       "      <th>heart_disease</th>\n",
       "      <th>avg_glucose_level</th>\n",
       "      <th>bmi</th>\n",
       "      <th>stroke</th>\n",
       "    </tr>\n",
       "  </thead>\n",
       "  <tbody>\n",
       "    <tr>\n",
       "      <th>count</th>\n",
       "      <td>5087.000000</td>\n",
       "      <td>5087.000000</td>\n",
       "      <td>5087.000000</td>\n",
       "      <td>5087.000000</td>\n",
       "      <td>4886.000000</td>\n",
       "      <td>5087.000000</td>\n",
       "    </tr>\n",
       "    <tr>\n",
       "      <th>mean</th>\n",
       "      <td>43.346963</td>\n",
       "      <td>0.097897</td>\n",
       "      <td>0.054256</td>\n",
       "      <td>106.184069</td>\n",
       "      <td>28.909640</td>\n",
       "      <td>0.048948</td>\n",
       "    </tr>\n",
       "    <tr>\n",
       "      <th>std</th>\n",
       "      <td>22.591698</td>\n",
       "      <td>0.297204</td>\n",
       "      <td>0.226544</td>\n",
       "      <td>45.340478</td>\n",
       "      <td>7.853621</td>\n",
       "      <td>0.215781</td>\n",
       "    </tr>\n",
       "    <tr>\n",
       "      <th>min</th>\n",
       "      <td>0.080000</td>\n",
       "      <td>0.000000</td>\n",
       "      <td>0.000000</td>\n",
       "      <td>55.120000</td>\n",
       "      <td>10.300000</td>\n",
       "      <td>0.000000</td>\n",
       "    </tr>\n",
       "    <tr>\n",
       "      <th>25%</th>\n",
       "      <td>26.000000</td>\n",
       "      <td>0.000000</td>\n",
       "      <td>0.000000</td>\n",
       "      <td>77.235000</td>\n",
       "      <td>23.600000</td>\n",
       "      <td>0.000000</td>\n",
       "    </tr>\n",
       "    <tr>\n",
       "      <th>50%</th>\n",
       "      <td>45.000000</td>\n",
       "      <td>0.000000</td>\n",
       "      <td>0.000000</td>\n",
       "      <td>91.890000</td>\n",
       "      <td>28.100000</td>\n",
       "      <td>0.000000</td>\n",
       "    </tr>\n",
       "    <tr>\n",
       "      <th>75%</th>\n",
       "      <td>61.000000</td>\n",
       "      <td>0.000000</td>\n",
       "      <td>0.000000</td>\n",
       "      <td>114.090000</td>\n",
       "      <td>33.100000</td>\n",
       "      <td>0.000000</td>\n",
       "    </tr>\n",
       "    <tr>\n",
       "      <th>max</th>\n",
       "      <td>82.000000</td>\n",
       "      <td>1.000000</td>\n",
       "      <td>1.000000</td>\n",
       "      <td>271.740000</td>\n",
       "      <td>97.600000</td>\n",
       "      <td>1.000000</td>\n",
       "    </tr>\n",
       "  </tbody>\n",
       "</table>\n",
       "</div>"
      ],
      "text/plain": [
       "               age  hypertension  heart_disease  avg_glucose_level  \\\n",
       "count  5087.000000   5087.000000    5087.000000        5087.000000   \n",
       "mean     43.346963      0.097897       0.054256         106.184069   \n",
       "std      22.591698      0.297204       0.226544          45.340478   \n",
       "min       0.080000      0.000000       0.000000          55.120000   \n",
       "25%      26.000000      0.000000       0.000000          77.235000   \n",
       "50%      45.000000      0.000000       0.000000          91.890000   \n",
       "75%      61.000000      0.000000       0.000000         114.090000   \n",
       "max      82.000000      1.000000       1.000000         271.740000   \n",
       "\n",
       "               bmi       stroke  \n",
       "count  4886.000000  5087.000000  \n",
       "mean     28.909640     0.048948  \n",
       "std       7.853621     0.215781  \n",
       "min      10.300000     0.000000  \n",
       "25%      23.600000     0.000000  \n",
       "50%      28.100000     0.000000  \n",
       "75%      33.100000     0.000000  \n",
       "max      97.600000     1.000000  "
      ]
     },
     "execution_count": 17,
     "metadata": {},
     "output_type": "execute_result"
    }
   ],
   "source": [
    "#Checking for impossible values\n",
    "stroke_df.describe()"
   ]
  },
  {
   "cell_type": "markdown",
   "metadata": {
    "id": "rLOGEaUxJmiA"
   },
   "source": [
    "## Feature Engineering"
   ]
  },
  {
   "cell_type": "code",
   "execution_count": 18,
   "metadata": {
    "colab": {
     "base_uri": "https://localhost:8080/",
     "height": 250
    },
    "id": "46z8EtoSJpKw",
    "outputId": "8d871328-b71e-4554-96d8-440862b20648"
   },
   "outputs": [
    {
     "data": {
      "text/html": [
       "<div>\n",
       "<style scoped>\n",
       "    .dataframe tbody tr th:only-of-type {\n",
       "        vertical-align: middle;\n",
       "    }\n",
       "\n",
       "    .dataframe tbody tr th {\n",
       "        vertical-align: top;\n",
       "    }\n",
       "\n",
       "    .dataframe thead th {\n",
       "        text-align: right;\n",
       "    }\n",
       "</style>\n",
       "<table border=\"1\" class=\"dataframe\">\n",
       "  <thead>\n",
       "    <tr style=\"text-align: right;\">\n",
       "      <th></th>\n",
       "      <th>gender</th>\n",
       "      <th>age</th>\n",
       "      <th>hypertension</th>\n",
       "      <th>heart_disease</th>\n",
       "      <th>ever_married</th>\n",
       "      <th>work_type</th>\n",
       "      <th>Residence_type</th>\n",
       "      <th>avg_glucose_level</th>\n",
       "      <th>bmi</th>\n",
       "      <th>smoking_status</th>\n",
       "      <th>stroke</th>\n",
       "      <th>high_or_low_glucose</th>\n",
       "    </tr>\n",
       "  </thead>\n",
       "  <tbody>\n",
       "    <tr>\n",
       "      <th>0</th>\n",
       "      <td>Male</td>\n",
       "      <td>67.0</td>\n",
       "      <td>0</td>\n",
       "      <td>1</td>\n",
       "      <td>Yes</td>\n",
       "      <td>Private</td>\n",
       "      <td>Urban</td>\n",
       "      <td>228.69</td>\n",
       "      <td>36.6</td>\n",
       "      <td>formerly smoked</td>\n",
       "      <td>1</td>\n",
       "      <td>High</td>\n",
       "    </tr>\n",
       "    <tr>\n",
       "      <th>1</th>\n",
       "      <td>Female</td>\n",
       "      <td>61.0</td>\n",
       "      <td>0</td>\n",
       "      <td>0</td>\n",
       "      <td>Yes</td>\n",
       "      <td>Self-employed</td>\n",
       "      <td>Rural</td>\n",
       "      <td>202.21</td>\n",
       "      <td>NaN</td>\n",
       "      <td>never smoked</td>\n",
       "      <td>1</td>\n",
       "      <td>High</td>\n",
       "    </tr>\n",
       "    <tr>\n",
       "      <th>2</th>\n",
       "      <td>Male</td>\n",
       "      <td>80.0</td>\n",
       "      <td>0</td>\n",
       "      <td>1</td>\n",
       "      <td>Yes</td>\n",
       "      <td>Private</td>\n",
       "      <td>Rural</td>\n",
       "      <td>105.92</td>\n",
       "      <td>32.5</td>\n",
       "      <td>never smoked</td>\n",
       "      <td>1</td>\n",
       "      <td>Normal</td>\n",
       "    </tr>\n",
       "    <tr>\n",
       "      <th>3</th>\n",
       "      <td>Female</td>\n",
       "      <td>49.0</td>\n",
       "      <td>0</td>\n",
       "      <td>0</td>\n",
       "      <td>Yes</td>\n",
       "      <td>Private</td>\n",
       "      <td>Urban</td>\n",
       "      <td>171.23</td>\n",
       "      <td>34.4</td>\n",
       "      <td>smokes</td>\n",
       "      <td>1</td>\n",
       "      <td>High</td>\n",
       "    </tr>\n",
       "    <tr>\n",
       "      <th>4</th>\n",
       "      <td>Female</td>\n",
       "      <td>79.0</td>\n",
       "      <td>1</td>\n",
       "      <td>0</td>\n",
       "      <td>Yes</td>\n",
       "      <td>Self-employed</td>\n",
       "      <td>Rural</td>\n",
       "      <td>174.12</td>\n",
       "      <td>24.0</td>\n",
       "      <td>never smoked</td>\n",
       "      <td>1</td>\n",
       "      <td>High</td>\n",
       "    </tr>\n",
       "  </tbody>\n",
       "</table>\n",
       "</div>"
      ],
      "text/plain": [
       "   gender   age  hypertension  heart_disease ever_married      work_type  \\\n",
       "0    Male  67.0             0              1          Yes        Private   \n",
       "1  Female  61.0             0              0          Yes  Self-employed   \n",
       "2    Male  80.0             0              1          Yes        Private   \n",
       "3  Female  49.0             0              0          Yes        Private   \n",
       "4  Female  79.0             1              0          Yes  Self-employed   \n",
       "\n",
       "  Residence_type  avg_glucose_level   bmi   smoking_status  stroke  \\\n",
       "0          Urban             228.69  36.6  formerly smoked       1   \n",
       "1          Rural             202.21   NaN     never smoked       1   \n",
       "2          Rural             105.92  32.5     never smoked       1   \n",
       "3          Urban             171.23  34.4           smokes       1   \n",
       "4          Rural             174.12  24.0     never smoked       1   \n",
       "\n",
       "  high_or_low_glucose  \n",
       "0                High  \n",
       "1                High  \n",
       "2              Normal  \n",
       "3                High  \n",
       "4                High  "
      ]
     },
     "execution_count": 18,
     "metadata": {},
     "output_type": "execute_result"
    }
   ],
   "source": [
    "#After researching, I found that anyone with a glucose level over 140 has high levels\n",
    "#I decided to add this as an extra feature\n",
    "stroke_df['high_or_low_glucose'] = stroke_df['avg_glucose_level'].apply(lambda x: 'High' if x > 140 else 'Normal')\n",
    "stroke_df.head()"
   ]
  },
  {
   "cell_type": "code",
   "execution_count": 19,
   "metadata": {
    "colab": {
     "base_uri": "https://localhost:8080/",
     "height": 305
    },
    "id": "F0t7lnolVH_F",
    "outputId": "00d7a62c-8209-43ff-f6ba-833ef5bc64cf"
   },
   "outputs": [
    {
     "data": {
      "text/html": [
       "<div>\n",
       "<style scoped>\n",
       "    .dataframe tbody tr th:only-of-type {\n",
       "        vertical-align: middle;\n",
       "    }\n",
       "\n",
       "    .dataframe tbody tr th {\n",
       "        vertical-align: top;\n",
       "    }\n",
       "\n",
       "    .dataframe thead th {\n",
       "        text-align: right;\n",
       "    }\n",
       "</style>\n",
       "<table border=\"1\" class=\"dataframe\">\n",
       "  <thead>\n",
       "    <tr style=\"text-align: right;\">\n",
       "      <th></th>\n",
       "      <th>gender</th>\n",
       "      <th>age</th>\n",
       "      <th>hypertension</th>\n",
       "      <th>heart_disease</th>\n",
       "      <th>ever_married</th>\n",
       "      <th>work_type</th>\n",
       "      <th>Residence_type</th>\n",
       "      <th>avg_glucose_level</th>\n",
       "      <th>bmi</th>\n",
       "      <th>smoking_status</th>\n",
       "      <th>stroke</th>\n",
       "      <th>high_or_low_glucose</th>\n",
       "      <th>high_bmi</th>\n",
       "    </tr>\n",
       "  </thead>\n",
       "  <tbody>\n",
       "    <tr>\n",
       "      <th>0</th>\n",
       "      <td>Male</td>\n",
       "      <td>67.0</td>\n",
       "      <td>0</td>\n",
       "      <td>1</td>\n",
       "      <td>Yes</td>\n",
       "      <td>Private</td>\n",
       "      <td>Urban</td>\n",
       "      <td>228.69</td>\n",
       "      <td>36.6</td>\n",
       "      <td>formerly smoked</td>\n",
       "      <td>1</td>\n",
       "      <td>High</td>\n",
       "      <td>High</td>\n",
       "    </tr>\n",
       "    <tr>\n",
       "      <th>1</th>\n",
       "      <td>Female</td>\n",
       "      <td>61.0</td>\n",
       "      <td>0</td>\n",
       "      <td>0</td>\n",
       "      <td>Yes</td>\n",
       "      <td>Self-employed</td>\n",
       "      <td>Rural</td>\n",
       "      <td>202.21</td>\n",
       "      <td>NaN</td>\n",
       "      <td>never smoked</td>\n",
       "      <td>1</td>\n",
       "      <td>High</td>\n",
       "      <td>Normal</td>\n",
       "    </tr>\n",
       "    <tr>\n",
       "      <th>2</th>\n",
       "      <td>Male</td>\n",
       "      <td>80.0</td>\n",
       "      <td>0</td>\n",
       "      <td>1</td>\n",
       "      <td>Yes</td>\n",
       "      <td>Private</td>\n",
       "      <td>Rural</td>\n",
       "      <td>105.92</td>\n",
       "      <td>32.5</td>\n",
       "      <td>never smoked</td>\n",
       "      <td>1</td>\n",
       "      <td>Normal</td>\n",
       "      <td>High</td>\n",
       "    </tr>\n",
       "    <tr>\n",
       "      <th>3</th>\n",
       "      <td>Female</td>\n",
       "      <td>49.0</td>\n",
       "      <td>0</td>\n",
       "      <td>0</td>\n",
       "      <td>Yes</td>\n",
       "      <td>Private</td>\n",
       "      <td>Urban</td>\n",
       "      <td>171.23</td>\n",
       "      <td>34.4</td>\n",
       "      <td>smokes</td>\n",
       "      <td>1</td>\n",
       "      <td>High</td>\n",
       "      <td>High</td>\n",
       "    </tr>\n",
       "    <tr>\n",
       "      <th>4</th>\n",
       "      <td>Female</td>\n",
       "      <td>79.0</td>\n",
       "      <td>1</td>\n",
       "      <td>0</td>\n",
       "      <td>Yes</td>\n",
       "      <td>Self-employed</td>\n",
       "      <td>Rural</td>\n",
       "      <td>174.12</td>\n",
       "      <td>24.0</td>\n",
       "      <td>never smoked</td>\n",
       "      <td>1</td>\n",
       "      <td>High</td>\n",
       "      <td>Normal</td>\n",
       "    </tr>\n",
       "  </tbody>\n",
       "</table>\n",
       "</div>"
      ],
      "text/plain": [
       "   gender   age  hypertension  heart_disease ever_married      work_type  \\\n",
       "0    Male  67.0             0              1          Yes        Private   \n",
       "1  Female  61.0             0              0          Yes  Self-employed   \n",
       "2    Male  80.0             0              1          Yes        Private   \n",
       "3  Female  49.0             0              0          Yes        Private   \n",
       "4  Female  79.0             1              0          Yes  Self-employed   \n",
       "\n",
       "  Residence_type  avg_glucose_level   bmi   smoking_status  stroke  \\\n",
       "0          Urban             228.69  36.6  formerly smoked       1   \n",
       "1          Rural             202.21   NaN     never smoked       1   \n",
       "2          Rural             105.92  32.5     never smoked       1   \n",
       "3          Urban             171.23  34.4           smokes       1   \n",
       "4          Rural             174.12  24.0     never smoked       1   \n",
       "\n",
       "  high_or_low_glucose high_bmi  \n",
       "0                High     High  \n",
       "1                High   Normal  \n",
       "2              Normal     High  \n",
       "3                High     High  \n",
       "4                High   Normal  "
      ]
     },
     "execution_count": 19,
     "metadata": {},
     "output_type": "execute_result"
    }
   ],
   "source": [
    "#I can do something similar with the bmi column\n",
    "#A high bmi is over 25\n",
    "stroke_df['high_bmi'] = stroke_df['bmi'].apply(lambda x: 'High' if x > 25 else 'Normal')\n",
    "stroke_df.head()"
   ]
  },
  {
   "cell_type": "markdown",
   "metadata": {
    "id": "FDYdFs19qWMX"
   },
   "source": [
    "## Exploratory Visuals"
   ]
  },
  {
   "cell_type": "code",
   "execution_count": 20,
   "metadata": {
    "colab": {
     "base_uri": "https://localhost:8080/",
     "height": 296
    },
    "id": "lxAMN89XqYgi",
    "outputId": "a9768d78-ac09-44aa-9eed-adde20fd0d89"
   },
   "outputs": [
    {
     "data": {
      "image/png": "[encoded data removed]",
      "text/plain": [
       "<Figure size 640x480 with 1 Axes>"
      ]
     },
     "metadata": {},
     "output_type": "display_data"
    }
   ],
   "source": [
    "sns.boxplot(data = stroke_df, x = 'avg_glucose_level').set(title = 'Average Glucose Level Distribution');"
   ]
  },
  {
   "cell_type": "markdown",
   "metadata": {
    "id": "zdyNm23Lqr15"
   },
   "source": [
    "- This is a boxplot showing the distribution of the average glucose level of patients. The median is about 75. There are outliers in this column that need to be removed.  \n"
   ]
  },
  {
   "cell_type": "code",
   "execution_count": 21,
   "metadata": {
    "colab": {
     "base_uri": "https://localhost:8080/"
    },
    "id": "JNzTn-riq2k5",
    "outputId": "285e3599-8fdd-4191-a889-fb35666617c9"
   },
   "outputs": [
    {
     "name": "stdout",
     "output_type": "stream",
     "text": [
      "(array([   0,    1,    3,    4,    5,   13,   14,   16,   17,   19,   20,\n",
      "         21,   22,   23,   27,   28,   29,   30,   32,   33,   36,   44,\n",
      "         45,   54,   55,   57,   58,   59,   60,   66,   71,   73,   76,\n",
      "         90,   95,   97,  101,  102,  107,  113,  115,  122,  123,  124,\n",
      "        128,  130,  132,  134,  135,  137,  138,  139,  144,  149,  151,\n",
      "        155,  157,  158,  163,  175,  179,  187,  189,  190,  193,  195,\n",
      "        196,  201,  212,  215,  217,  218,  219,  220,  222,  225,  226,\n",
      "        233,  234,  235,  241,  242,  243,  253,  255,  257,  271,  276,\n",
      "        277,  292,  297,  302,  306,  313,  317,  324,  325,  329,  330,\n",
      "        331,  336,  342,  349,  354,  359,  364,  385,  395,  398,  410,\n",
      "        416,  425,  428,  432,  435,  443,  455,  465,  466,  467,  476,\n",
      "        478,  491,  514,  543,  548,  550,  551,  558,  562,  569,  575,\n",
      "        580,  582,  584,  594,  597,  598,  608,  614,  618,  640,  704,\n",
      "        706,  717,  742,  744,  753,  760,  768,  783,  814,  844,  846,\n",
      "        849,  863,  865,  878,  884,  891,  920,  926,  927,  942,  944,\n",
      "        965,  966, 1006, 1054, 1056, 1062, 1065, 1066, 1087, 1092, 1097,\n",
      "       1099, 1108, 1113, 1126, 1153, 1161, 1168, 1173, 1182, 1184, 1195,\n",
      "       1197, 1202, 1209, 1220, 1223, 1228, 1240, 1245, 1252, 1272, 1277,\n",
      "       1295, 1304, 1314, 1317, 1334, 1338, 1341, 1374, 1377, 1379, 1393,\n",
      "       1406, 1407, 1409, 1431, 1448, 1452, 1462, 1466, 1468, 1479, 1481,\n",
      "       1491, 1497, 1506, 1520, 1523, 1525, 1527, 1528, 1529, 1534, 1541,\n",
      "       1547, 1582, 1590, 1592, 1601, 1620, 1621, 1622, 1644, 1648, 1649,\n",
      "       1653, 1661, 1669, 1675, 1692, 1698, 1705, 1712, 1717, 1726, 1731,\n",
      "       1750, 1753, 1763, 1772, 1774, 1776, 1788, 1791, 1809, 1813, 1820,\n",
      "       1830, 1833, 1834, 1836, 1846, 1855, 1866, 1873, 1881, 1882, 1885,\n",
      "       1886, 1891, 1898, 1944, 1963, 1973, 1987, 1996, 2010, 2036, 2051,\n",
      "       2059, 2061, 2071, 2073, 2081, 2088, 2094, 2099, 2116, 2118, 2121,\n",
      "       2124, 2127, 2141, 2150, 2153, 2160, 2161, 2172, 2174, 2177, 2192,\n",
      "       2193, 2195, 2215, 2220, 2232, 2247, 2249, 2265, 2274, 2276, 2282,\n",
      "       2283, 2284, 2285, 2286, 2295, 2299, 2310, 2324, 2328, 2330, 2356,\n",
      "       2365, 2374, 2386, 2409, 2420, 2430, 2444, 2446, 2450, 2453, 2460,\n",
      "       2477, 2484, 2485, 2506, 2511, 2514, 2523, 2531, 2535, 2539, 2544,\n",
      "       2556, 2560, 2569, 2574, 2590, 2591, 2600, 2603, 2615, 2620, 2624,\n",
      "       2632, 2652, 2666, 2667, 2670, 2673, 2676, 2677, 2681, 2684, 2688,\n",
      "       2690, 2698, 2701, 2724, 2740, 2741, 2746, 2757, 2834, 2836, 2837,\n",
      "       2843, 2854, 2855, 2868, 2878, 2881, 2905, 2915, 2921, 2934, 2944,\n",
      "       2947, 2953, 2968, 2979, 2984, 2992, 2995, 3001, 3004, 3041, 3047,\n",
      "       3056, 3061, 3075, 3116, 3132, 3134, 3136, 3138, 3143, 3147, 3172,\n",
      "       3182, 3183, 3200, 3206, 3219, 3223, 3228, 3237, 3291, 3303, 3312,\n",
      "       3327, 3335, 3345, 3360, 3361, 3363, 3366, 3372, 3376, 3378, 3391,\n",
      "       3410, 3412, 3424, 3440, 3446, 3447, 3462, 3464, 3473, 3484, 3491,\n",
      "       3494, 3501, 3506, 3520, 3521, 3532, 3548, 3562, 3571, 3578, 3583,\n",
      "       3584, 3590, 3609, 3611, 3614, 3621, 3627, 3642, 3658, 3670, 3672,\n",
      "       3683, 3684, 3702, 3718, 3737, 3740, 3755, 3756, 3763, 3764, 3765,\n",
      "       3772, 3786, 3817, 3866, 3873, 3876, 3889, 3893, 3897, 3909, 3915,\n",
      "       3927, 3940, 3943, 3946, 3948, 3949, 3963, 3965, 3977, 3991, 4005,\n",
      "       4011, 4020, 4029, 4031, 4034, 4037, 4078, 4086, 4105, 4111, 4114,\n",
      "       4145, 4157, 4182, 4188, 4221, 4230, 4242, 4255, 4264, 4267, 4271,\n",
      "       4272, 4285, 4292, 4302, 4305, 4306, 4308, 4310, 4316, 4320, 4325,\n",
      "       4337, 4341, 4347, 4357, 4358, 4371, 4414, 4417, 4426, 4427, 4433,\n",
      "       4437, 4450, 4455, 4477, 4480, 4484, 4485, 4487, 4494, 4495, 4510,\n",
      "       4519, 4540, 4557, 4558, 4562, 4568, 4569, 4578, 4595, 4604, 4606,\n",
      "       4607, 4615, 4633, 4644, 4663, 4675, 4681, 4687, 4690, 4703, 4716,\n",
      "       4717, 4718, 4719, 4729, 4742, 4786, 4793, 4800, 4813, 4832, 4838,\n",
      "       4846, 4860, 4872, 4876, 4886, 4898, 4902, 4918, 4929, 4932, 4960,\n",
      "       4961, 4963, 4964, 4972, 4978, 4983, 4996, 5006, 5011, 5012, 5018,\n",
      "       5025, 5038, 5039, 5040, 5041, 5053]),)\n"
     ]
    }
   ],
   "source": [
    "#Check for outliers\n",
    "print(np.where(stroke_df['avg_glucose_level']>170))"
   ]
  },
  {
   "cell_type": "code",
   "execution_count": 22,
   "metadata": {
    "id": "PDn4mmmGrE_7"
   },
   "outputs": [],
   "source": [
    "#Drop rows with outliers\n",
    "stroke_df.drop([0,    1,    3,    4,    5,   13,   14,   16,   17,   19,   20,\n",
    "         21,   22,   23,   27,   28,   29,   30,   32,   33,   36,   44,\n",
    "         45,   54,   55,   57,   58,   59,   60,   66,   71,   73,   76,\n",
    "         90,   95,   97,  101,  102,  107,  113,  115,  122,  123,  124,\n",
    "        128,  130,  132,  134,  135,  137,  138,  139,  144,  149,  151,\n",
    "        155,  157,  158,  163,  175,  179,  187,  189,  190,  193,  195,\n",
    "        196,  201,  212,  215,  217,  218,  219,  220,  222,  225,  226,\n",
    "        233,  234,  235,  241,  242,  243,  254,  256,  258,  272,  277,\n",
    "        278,  293,  298,  303,  307,  314,  318,  325,  326,  330,  331,\n",
    "        332,  337,  343,  350,  355,  360,  365,  386,  396,  399,  411,\n",
    "        417,  426,  429,  433,  436,  444,  456,  466,  467,  468,  477,\n",
    "        479,  492,  515,  544,  549,  551,  552,  559,  563,  570,  576,\n",
    "        581,  583,  585,  595,  598,  599,  610,  616,  620,  642,  706,\n",
    "        708,  719,  744,  746,  755,  762,  770,  785,  816,  846,  848,\n",
    "        851,  865,  867,  880,  887,  894,  923,  929,  930,  946,  948,\n",
    "        970,  971, 1011, 1059, 1061, 1067, 1070, 1071, 1092, 1097, 1102,\n",
    "       1104, 1113, 1118, 1131, 1158, 1166, 1173, 1178, 1187, 1189, 1200,\n",
    "       1202, 1207, 1214, 1225, 1228, 1233, 1245, 1250, 1257, 1277, 1282,\n",
    "       1300, 1309, 1319, 1322, 1339, 1343, 1346, 1379, 1382, 1384, 1398,\n",
    "       1411, 1412, 1414, 1436, 1453, 1457, 1468, 1472, 1474, 1485, 1487,\n",
    "       1497, 1503, 1512, 1526, 1529, 1531, 1533, 1534, 1535, 1540, 1547,\n",
    "       1553, 1588, 1596, 1598, 1607, 1626, 1627, 1628, 1650, 1654, 1655,\n",
    "       1659, 1667, 1675, 1681, 1698, 1704, 1711, 1718, 1723, 1732, 1737,\n",
    "       1756, 1759, 1769, 1778, 1780, 1782, 1795, 1798, 1816, 1820, 1827,\n",
    "       1837, 1840, 1841, 1843, 1853, 1862, 1873, 1880, 1888, 1889, 1892,\n",
    "       1893, 1898, 1905, 1952, 1971, 1981, 1995, 2004, 2018, 2044, 2059,\n",
    "       2067, 2069, 2079, 2081, 2089, 2096, 2102, 2107, 2124, 2126, 2129,\n",
    "       2132, 2135, 2149, 2158, 2161, 2168, 2169, 2180, 2182, 2185, 2200,\n",
    "       2201, 2203, 2223, 2228, 2240, 2255, 2257, 2273, 2282, 2284, 2290,\n",
    "       2291, 2292, 2293, 2294, 2303, 2307, 2318, 2332, 2336, 2338, 2365,\n",
    "       2374, 2383, 2395, 2418, 2429, 2439, 2453, 2455, 2459, 2462, 2469,\n",
    "       2486, 2493, 2494, 2515, 2520, 2523, 2532, 2540, 2544, 2548, 2553,\n",
    "       2565, 2569, 2578, 2583, 2599, 2600, 2609, 2612, 2624, 2629, 2633,\n",
    "       2641, 2661, 2675, 2676, 2679, 2682, 2685, 2686, 2690, 2693, 2697,\n",
    "       2699, 2707, 2710, 2734, 2751, 2752, 2757, 2768, 2846, 2848, 2849,\n",
    "       2855, 2866, 2867, 2880, 2890, 2893, 2918, 2928, 2934, 2947, 2957,\n",
    "       2960, 2966, 2981, 2992, 2997, 3005, 3008, 3014, 3017, 3054, 3060,\n",
    "       3069, 3074, 3088, 3130, 3146, 3148, 3150, 3152, 3157, 3161, 3186,\n",
    "       3197, 3198, 3215, 3221, 3234, 3238, 3243, 3252, 3306, 3318, 3327,\n",
    "       3342, 3350, 3360, 3375, 3376, 3378, 3381, 3387, 3391, 3393, 3406,\n",
    "       3425, 3427, 3439, 3455, 3461, 3462, 3478, 3480, 3489, 3500, 3507,\n",
    "       3510, 3517, 3522, 3536, 3537, 3548, 3564, 3578, 3587, 3594, 3599,\n",
    "       3600, 3606, 3625, 3627, 3630, 3637, 3643, 3658, 3674, 3686, 3688,\n",
    "       3699, 3700, 3718, 3734, 3753, 3756, 3771, 3772, 3779, 3780, 3781,\n",
    "       3788, 3802, 3833, 3882, 3889, 3892, 3905, 3909, 3913, 3925, 3931,\n",
    "       3943, 3956, 3959, 3962, 3964, 3965, 3980, 3982, 3994, 4008, 4022,\n",
    "       4028, 4037, 4046, 4048, 4051, 4054, 4096, 4104, 4123, 4129, 4132,\n",
    "       4164, 4176, 4201, 4207, 4240, 4249, 4261, 4274, 4283, 4286, 4290,\n",
    "       4291, 4304, 4311, 4321, 4324, 4325, 4327, 4329, 4335, 4339, 4344,\n",
    "       4356, 4360, 4366, 4376, 4377, 4390, 4434, 4437, 4446, 4447, 4453,\n",
    "       4457, 4470, 4475, 4497, 4500, 4504, 4505, 4507, 4514, 4515, 4530,\n",
    "       4539, 4560, 4577, 4578, 4582, 4588, 4589, 4598, 4616, 4625, 4627,\n",
    "       4628, 4636, 4654, 4665, 4684, 4696, 4702, 4708, 4711, 4724, 4737,\n",
    "       4738, 4739, 4740, 4750, 4763, 4809, 4816, 4823, 4836, 4855, 4861,\n",
    "       4869, 4883, 4895, 4899, 4909, 4921, 4925, 4941, 4952, 4955, 4983,\n",
    "       4984, 4986, 4987, 4995, 5001, 5006, 5019, 5029, 5034, 5035, 5041,\n",
    "       5048, 5061, 5062, 5063, 5064, 5076],  inplace = True)"
   ]
  },
  {
   "cell_type": "code",
   "execution_count": 23,
   "metadata": {
    "colab": {
     "base_uri": "https://localhost:8080/",
     "height": 295
    },
    "id": "hqyeH85Qro2a",
    "outputId": "179eba1f-4d31-4269-ab84-3aabba591ec2"
   },
   "outputs": [
    {
     "data": {
      "image/png": "[encoded data removed]",
      "text/plain": [
       "<Figure size 640x480 with 1 Axes>"
      ]
     },
     "metadata": {},
     "output_type": "display_data"
    }
   ],
   "source": [
    "#Creating a box plot for bmi\n",
    "sns.boxplot(data = stroke_df, x = 'bmi').set(title = 'BMI Distribution');"
   ]
  },
  {
   "cell_type": "markdown",
   "metadata": {
    "id": "_LS9DNnwr8OY"
   },
   "source": [
    "- This is a boxplot showing the distribution of the bmi of patients. The median is about 27. There are outliers in this column that need to be removed."
   ]
  },
  {
   "cell_type": "code",
   "execution_count": 24,
   "metadata": {
    "id": "YwEeB658sz93"
   },
   "outputs": [],
   "source": [
    "np.set_printoptions(threshold=sys.maxsize)"
   ]
  },
  {
   "cell_type": "code",
   "execution_count": 25,
   "metadata": {
    "colab": {
     "base_uri": "https://localhost:8080/"
    },
    "id": "01AfbFIosFsZ",
    "outputId": "9887fe9e-088e-43b5-bfa7-fd2cc84ae2c9"
   },
   "outputs": [
    {
     "name": "stdout",
     "output_type": "stream",
     "text": [
      "(array([  46,   47,  116,  183,  232,  239,  253,  261,  280,  304,  316,\n",
      "        339,  344,  369,  395,  414,  479,  494,  518,  528,  569,  611,\n",
      "        652,  680,  703,  764,  831,  832,  835,  843,  897,  899,  900,\n",
      "       1041, 1065, 1066, 1080, 1087, 1100, 1110, 1237, 1274, 1300, 1321,\n",
      "       1326, 1337, 1346, 1356, 1396, 1411, 1436, 1659, 1699, 1711, 1725,\n",
      "       1775, 1824, 1829, 1890, 1912, 1942, 1953, 1966, 1976, 1996, 2035,\n",
      "       2052, 2069, 2096, 2104, 2109, 2186, 2194, 2205, 2220, 2273, 2303,\n",
      "       2336, 2372, 2421, 2445, 2446, 2482, 2493, 2579, 2606, 2782, 2864,\n",
      "       2889, 2899, 3041, 3069, 3093, 3112, 3211, 3323, 3359, 3364, 3376,\n",
      "       3411, 3511, 3541, 3593, 3619, 3649, 3650, 3669, 3683, 3685, 3737,\n",
      "       3742, 3789, 3793, 3818, 3841, 3843, 3886, 3952, 3975, 3988, 4055,\n",
      "       4093, 4104, 4169, 4223, 4232, 4242, 4275, 4285, 4349, 4375, 4381,\n",
      "       4417, 4458]),)\n"
     ]
    }
   ],
   "source": [
    "print(np.where(stroke_df['bmi']>44))"
   ]
  },
  {
   "cell_type": "code",
   "execution_count": 26,
   "metadata": {
    "id": "o-QwrzyGtKCO"
   },
   "outputs": [],
   "source": [
    "# Dropping rows with outliers\n",
    "stroke_df.drop([ 46,   47,  116,  184,  240,  262,  281,  305,  317,\n",
    "        340,  345,  370,  415,  481,  496,  520,  530,  571,  613,\n",
    "        654,  682,  705,  767,  836,  837,  840,  902,  904,  905,\n",
    "       1046, 1085, 1105, 1115, 1242, 1280, 1306, 1327,\n",
    "       1332, 1352, 1362, 1402, 1417, 1442, 1707, 1719, 1733,\n",
    "       1783, 1832, 1920, 1950, 1961, 1974, 1984,\n",
    "       2061, 2078, 2105, 2113, 2118, 2195, 2214, 2229, 2312,\n",
    "       2433, 2457, 2458, 2505, 2592, 2619, 2797, 2879,\n",
    "       2904, 2914, 3057, 3085, 3109, 3128, 3227, 3339, 3380, 3392,\n",
    "       3528, 3559, 3611, 3668, 3669, 3702, 3704,\n",
    "       3761, 3808, 3812, 3837, 3860, 3862, 3906, 3995, 4042,\n",
    "       4076, 4114, 4125, 4191, 4246, 4255, 4265, 4298, 4308, 4372, 4398,\n",
    "       4404, 4440, 4481],  inplace = True)"
   ]
  },
  {
   "cell_type": "code",
   "execution_count": 27,
   "metadata": {
    "colab": {
     "base_uri": "https://localhost:8080/",
     "height": 295
    },
    "id": "s_N_qiLqHRBD",
    "outputId": "8b80589f-ae61-41f7-870e-cfd2a4ba7776"
   },
   "outputs": [
    {
     "data": {
      "image/png": "[encoded data removed]",
      "text/plain": [
       "<Figure size 640x480 with 1 Axes>"
      ]
     },
     "metadata": {},
     "output_type": "display_data"
    }
   ],
   "source": [
    "sns.boxplot(data = stroke_df, x = 'age').set(title = 'Age Distribution');"
   ]
  },
  {
   "cell_type": "markdown",
   "metadata": {
    "id": "Ggp2S-k9HesU"
   },
   "source": [
    "- This is a boxplot showing the distribution of ages of the patients in the dataset. The median age is 41"
   ]
  },
  {
   "cell_type": "code",
   "execution_count": 28,
   "metadata": {
    "colab": {
     "base_uri": "https://localhost:8080/",
     "height": 295
    },
    "id": "i3eK-_MIHq7y",
    "outputId": "c5f6edd5-0ec6-4d87-8a92-f4dd8e6f69cf"
   },
   "outputs": [
    {
     "data": {
      "image/png": "[encoded data removed]",
      "text/plain": [
       "<Figure size 640x480 with 1 Axes>"
      ]
     },
     "metadata": {},
     "output_type": "display_data"
    }
   ],
   "source": [
    "sns.countplot(data = stroke_df, y = 'gender').set(title = 'Count of Genders');"
   ]
  },
  {
   "cell_type": "markdown",
   "metadata": {
    "id": "CKTFn5QyIBTs"
   },
   "source": [
    "- This is a countplot showing the counts of each gender in the dataset. There are more females than males in the data. "
   ]
  },
  {
   "cell_type": "code",
   "execution_count": 29,
   "metadata": {
    "colab": {
     "base_uri": "https://localhost:8080/",
     "height": 295
    },
    "id": "lIWD-FJTINf9",
    "outputId": "3b9bc43e-f126-420e-b21c-97ec37f1fe37"
   },
   "outputs": [
    {
     "data": {
      "image/png": "[encoded data removed]",
      "text/plain": [
       "<Figure size 640x480 with 1 Axes>"
      ]
     },
     "metadata": {},
     "output_type": "display_data"
    }
   ],
   "source": [
    "sns.countplot(data = stroke_df, y = 'hypertension').set(title = 'Count of Patients With Hypertension');"
   ]
  },
  {
   "cell_type": "markdown",
   "metadata": {
    "id": "tbTGINLHISsB"
   },
   "source": [
    "- This is a countplot showing the amount of patients in the dataset that have hypertension. The majority do not. "
   ]
  },
  {
   "cell_type": "code",
   "execution_count": 30,
   "metadata": {
    "colab": {
     "base_uri": "https://localhost:8080/",
     "height": 295
    },
    "id": "cYwd_--5IaMM",
    "outputId": "efd45166-97f3-46e0-d7f1-7d8751d79096"
   },
   "outputs": [
    {
     "data": {
      "image/png": "[encoded data removed]",
      "text/plain": [
       "<Figure size 640x480 with 1 Axes>"
      ]
     },
     "metadata": {},
     "output_type": "display_data"
    }
   ],
   "source": [
    "sns.countplot(data = stroke_df, y = 'heart_disease').set(title = 'Count of Patients With Heart Disease');"
   ]
  },
  {
   "cell_type": "markdown",
   "metadata": {
    "id": "Ushk7DsNIb9S"
   },
   "source": [
    "- This is a countplot showing the amount of patients in the dataset that have heart disease. The majority do not."
   ]
  },
  {
   "cell_type": "code",
   "execution_count": 31,
   "metadata": {
    "colab": {
     "base_uri": "https://localhost:8080/",
     "height": 295
    },
    "id": "zHTj89wdIlsA",
    "outputId": "142b71e7-bac0-45cb-9a32-16e483bfe63b"
   },
   "outputs": [
    {
     "data": {
      "image/png": "[encoded data removed]",
      "text/plain": [
       "<Figure size 640x480 with 1 Axes>"
      ]
     },
     "metadata": {},
     "output_type": "display_data"
    }
   ],
   "source": [
    "sns.countplot(data = stroke_df, y = 'ever_married').set(title = 'Count of Patient Marital Status');"
   ]
  },
  {
   "cell_type": "markdown",
   "metadata": {
    "id": "XxlHA5WHImTV"
   },
   "source": [
    "- This is a countplot showing the amount of patients in the dataset that have been married. More have been married than have not. "
   ]
  },
  {
   "cell_type": "code",
   "execution_count": 32,
   "metadata": {
    "colab": {
     "base_uri": "https://localhost:8080/",
     "height": 295
    },
    "id": "K9WNPdDEI4xg",
    "outputId": "f9a792d0-d44a-4518-a7d7-8e05af3f8cca"
   },
   "outputs": [
    {
     "data": {
      "image/png": "[encoded data removed]",
      "text/plain": [
       "<Figure size 640x480 with 1 Axes>"
      ]
     },
     "metadata": {},
     "output_type": "display_data"
    }
   ],
   "source": [
    "sns.countplot(data = stroke_df, y = 'work_type').set(title = 'Count of Work Type of Patients');"
   ]
  },
  {
   "cell_type": "markdown",
   "metadata": {
    "id": "8bLv-MgMI9ot"
   },
   "source": [
    "- This is a countplot showing the amount of patients in the dataset with different types of jobs. Patients most frequently work privately."
   ]
  },
  {
   "cell_type": "code",
   "execution_count": 33,
   "metadata": {
    "colab": {
     "base_uri": "https://localhost:8080/",
     "height": 295
    },
    "id": "SptoBLLeJQpM",
    "outputId": "83a5510d-4152-43ca-c4b2-1659b0c7b5e7"
   },
   "outputs": [
    {
     "data": {
      "image/png": "[encoded data removed]",
      "text/plain": [
       "<Figure size 640x480 with 1 Axes>"
      ]
     },
     "metadata": {},
     "output_type": "display_data"
    }
   ],
   "source": [
    "sns.countplot(data = stroke_df, y = 'Residence_type').set(title = 'Count of Residence Type of Patients');"
   ]
  },
  {
   "cell_type": "markdown",
   "metadata": {
    "id": "RGBbrzqmJWti"
   },
   "source": [
    "- This is a countplot showing the amount of patients that live in an urban or rural area. There is an even split between both areas."
   ]
  },
  {
   "cell_type": "code",
   "execution_count": 34,
   "metadata": {
    "colab": {
     "base_uri": "https://localhost:8080/",
     "height": 295
    },
    "id": "1OGmu_fXJiBg",
    "outputId": "d7a2cbfe-305e-4449-c9d6-a4656a1f3308"
   },
   "outputs": [
    {
     "data": {
      "image/png": "[encoded data removed]",
      "text/plain": [
       "<Figure size 640x480 with 1 Axes>"
      ]
     },
     "metadata": {},
     "output_type": "display_data"
    }
   ],
   "source": [
    "sns.countplot(data = stroke_df, y = 'smoking_status').set(title = 'Count of Smoking Status in Patients');"
   ]
  },
  {
   "cell_type": "markdown",
   "metadata": {
    "id": "xEulpERyJrxl"
   },
   "source": [
    "- This is a countplot showing how many patients smoke or have smoked. There is a large amount patients with an unknown status in this area."
   ]
  },
  {
   "cell_type": "code",
   "execution_count": 35,
   "metadata": {
    "colab": {
     "base_uri": "https://localhost:8080/",
     "height": 295
    },
    "id": "t4iQW1SFKB7X",
    "outputId": "82c4625f-6ac9-49c6-b275-b0f2d7809b44"
   },
   "outputs": [
    {
     "data": {
      "image/png": "[encoded data removed]",
      "text/plain": [
       "<Figure size 640x480 with 1 Axes>"
      ]
     },
     "metadata": {},
     "output_type": "display_data"
    }
   ],
   "source": [
    "sns.countplot(data = stroke_df, y = 'stroke').set(title = 'Count of Patients Who Had Strokes');"
   ]
  },
  {
   "cell_type": "markdown",
   "metadata": {
    "id": "EA9ukivjKG5Y"
   },
   "source": [
    "- This is a countplot showing the how many patients have had a stroke. The majority of patients have not had a stroke. This is my target column. "
   ]
  },
  {
   "cell_type": "markdown",
   "metadata": {
    "id": "t17YIiKObUFh"
   },
   "source": [
    "## Explanatory Visuals"
   ]
  },
  {
   "cell_type": "code",
   "execution_count": 36,
   "metadata": {
    "colab": {
     "base_uri": "https://localhost:8080/",
     "height": 350
    },
    "id": "G7b0Y4S2bm3d",
    "outputId": "27bdb17a-8463-4916-a43f-2c9236d3db7e"
   },
   "outputs": [
    {
     "name": "stderr",
     "output_type": "stream",
     "text": [
      "/var/folders/f5/bdzchg655zxf5v7h5fc_qxfh0000gn/T/ipykernel_96652/3250966298.py:2: FutureWarning: The default value of numeric_only in DataFrame.corr is deprecated. In a future version, it will default to False. Select only valid columns or specify the value of numeric_only to silence this warning.\n",
      "  corr = stroke_df.corr()\n"
     ]
    },
    {
     "data": {
      "image/png": "[encoded data removed]",
      "text/plain": [
       "<Figure size 640x480 with 2 Axes>"
      ]
     },
     "metadata": {},
     "output_type": "display_data"
    }
   ],
   "source": [
    "# Creating a heatmap to see the correlation of different features\n",
    "corr = stroke_df.corr()\n",
    "sns.heatmap(corr, cmap = \"Greens\", annot = True);"
   ]
  },
  {
   "cell_type": "markdown",
   "metadata": {
    "id": "UvGKCZFFkeYX"
   },
   "source": [
    "- There is a moderate positive correlation between strokes and age and hypertension. The strongest correlation in the heatmap is between age and bmi. Age and heart disease also have a moderate correlation."
   ]
  },
  {
   "cell_type": "code",
   "execution_count": 37,
   "metadata": {
    "colab": {
     "base_uri": "https://localhost:8080/",
     "height": 523
    },
    "id": "u86aVLZ8gjYk",
    "outputId": "3202e6de-0cac-439a-9ca1-43d49f2d8242"
   },
   "outputs": [
    {
     "data": {
      "image/png": "[encoded data removed]",
      "text/plain": [
       "<Figure size 1200x800 with 1 Axes>"
      ]
     },
     "metadata": {},
     "output_type": "display_data"
    }
   ],
   "source": [
    "fig, ax = plt.subplots(figsize = (12,8))\n",
    "ax = sns.lineplot(data = stroke_df, x = 'age', y = 'stroke')\n",
    "ax.set_title(\"Probability of Strokes with Age\", fontsize = 20, fontweight = \"bold\")\n",
    "ax.set_xlabel(\"Age\", fontsize = 15)\n",
    "ax.set_ylabel(\"Average Strokes\", fontsize = 15);"
   ]
  },
  {
   "cell_type": "markdown",
   "metadata": {
    "id": "lX64UQUilN_x"
   },
   "source": [
    "- This is a lineplot that shows the relationship between age and strokes in the patients. This shows that as age increases, the average number of strokes in patients also increases. Therefore, you are more likely to have a stroke as you get older. "
   ]
  },
  {
   "cell_type": "code",
   "execution_count": 38,
   "metadata": {
    "colab": {
     "base_uri": "https://localhost:8080/",
     "height": 540
    },
    "id": "W2F4ZjvqiEV-",
    "outputId": "f8eb23c4-ba65-4831-d32b-c650976687a5"
   },
   "outputs": [
    {
     "data": {
      "text/plain": [
       "[Text(0, 0, 'No'), Text(1, 0, 'Yes')]"
      ]
     },
     "execution_count": 38,
     "metadata": {},
     "output_type": "execute_result"
    },
    {
     "data": {
      "image/png": "[encoded data removed]",
      "text/plain": [
       "<Figure size 1200x800 with 1 Axes>"
      ]
     },
     "metadata": {},
     "output_type": "display_data"
    }
   ],
   "source": [
    "fig, ax = plt.subplots(figsize = (12,8))\n",
    "ax = sns.barplot(data = stroke_df, x = 'hypertension', y = 'stroke')\n",
    "ax.set_title(\"Relationship Between Hypertension and Strokes\", fontsize = 20, fontweight = \"bold\")\n",
    "ax.set_xlabel(\"Hypertension\", fontsize = 15)\n",
    "ax.set_ylabel(\"Average Number of Strokes\", fontsize = 15);\n",
    "ax.set_xticklabels(['No', 'Yes'])"
   ]
  },
  {
   "cell_type": "markdown",
   "metadata": {
    "id": "r8_Vz8C4lcTN"
   },
   "source": [
    "- This is a barplot that shows the relationship between hypertension and strokes. The graph shows that those with hypertension are more likely to have a stroke than those that do not have hypertension. "
   ]
  },
  {
   "cell_type": "markdown",
   "metadata": {
    "id": "XKvGQ4OOjzKE"
   },
   "source": [
    "## Preparing Data for Modeling\n",
    "- Because the data is extremely imbalanced, I am going to create a new dataframe that has all of the true positives from the original dataframe, but only 500 true negatives\n",
    "- This will help to create a more reliable model\n"
   ]
  },
  {
   "cell_type": "code",
   "execution_count": 39,
   "metadata": {
    "colab": {
     "base_uri": "https://localhost:8080/",
     "height": 522
    },
    "id": "M1s_fkjkxwJt",
    "outputId": "41ba7be7-4a67-48a7-8f51-c03bbbf9561e"
   },
   "outputs": [
    {
     "data": {
      "text/html": [
       "<div>\n",
       "<style scoped>\n",
       "    .dataframe tbody tr th:only-of-type {\n",
       "        vertical-align: middle;\n",
       "    }\n",
       "\n",
       "    .dataframe tbody tr th {\n",
       "        vertical-align: top;\n",
       "    }\n",
       "\n",
       "    .dataframe thead th {\n",
       "        text-align: right;\n",
       "    }\n",
       "</style>\n",
       "<table border=\"1\" class=\"dataframe\">\n",
       "  <thead>\n",
       "    <tr style=\"text-align: right;\">\n",
       "      <th></th>\n",
       "      <th>gender</th>\n",
       "      <th>age</th>\n",
       "      <th>hypertension</th>\n",
       "      <th>heart_disease</th>\n",
       "      <th>ever_married</th>\n",
       "      <th>work_type</th>\n",
       "      <th>Residence_type</th>\n",
       "      <th>avg_glucose_level</th>\n",
       "      <th>bmi</th>\n",
       "      <th>smoking_status</th>\n",
       "      <th>stroke</th>\n",
       "      <th>high_or_low_glucose</th>\n",
       "      <th>high_bmi</th>\n",
       "    </tr>\n",
       "  </thead>\n",
       "  <tbody>\n",
       "    <tr>\n",
       "      <th>2</th>\n",
       "      <td>Male</td>\n",
       "      <td>80.0</td>\n",
       "      <td>0</td>\n",
       "      <td>1</td>\n",
       "      <td>Yes</td>\n",
       "      <td>Private</td>\n",
       "      <td>Rural</td>\n",
       "      <td>105.92</td>\n",
       "      <td>32.5</td>\n",
       "      <td>never smoked</td>\n",
       "      <td>1</td>\n",
       "      <td>Normal</td>\n",
       "      <td>High</td>\n",
       "    </tr>\n",
       "    <tr>\n",
       "      <th>6</th>\n",
       "      <td>Male</td>\n",
       "      <td>74.0</td>\n",
       "      <td>1</td>\n",
       "      <td>1</td>\n",
       "      <td>Yes</td>\n",
       "      <td>Private</td>\n",
       "      <td>Rural</td>\n",
       "      <td>70.09</td>\n",
       "      <td>27.4</td>\n",
       "      <td>never smoked</td>\n",
       "      <td>1</td>\n",
       "      <td>Normal</td>\n",
       "      <td>High</td>\n",
       "    </tr>\n",
       "    <tr>\n",
       "      <th>7</th>\n",
       "      <td>Female</td>\n",
       "      <td>69.0</td>\n",
       "      <td>0</td>\n",
       "      <td>0</td>\n",
       "      <td>No</td>\n",
       "      <td>Private</td>\n",
       "      <td>Urban</td>\n",
       "      <td>94.39</td>\n",
       "      <td>22.8</td>\n",
       "      <td>never smoked</td>\n",
       "      <td>1</td>\n",
       "      <td>Normal</td>\n",
       "      <td>Normal</td>\n",
       "    </tr>\n",
       "    <tr>\n",
       "      <th>8</th>\n",
       "      <td>Female</td>\n",
       "      <td>59.0</td>\n",
       "      <td>0</td>\n",
       "      <td>0</td>\n",
       "      <td>Yes</td>\n",
       "      <td>Private</td>\n",
       "      <td>Rural</td>\n",
       "      <td>76.15</td>\n",
       "      <td>NaN</td>\n",
       "      <td>Unknown</td>\n",
       "      <td>1</td>\n",
       "      <td>Normal</td>\n",
       "      <td>Normal</td>\n",
       "    </tr>\n",
       "    <tr>\n",
       "      <th>9</th>\n",
       "      <td>Female</td>\n",
       "      <td>78.0</td>\n",
       "      <td>0</td>\n",
       "      <td>0</td>\n",
       "      <td>Yes</td>\n",
       "      <td>Private</td>\n",
       "      <td>Urban</td>\n",
       "      <td>58.57</td>\n",
       "      <td>24.2</td>\n",
       "      <td>Unknown</td>\n",
       "      <td>1</td>\n",
       "      <td>Normal</td>\n",
       "      <td>Normal</td>\n",
       "    </tr>\n",
       "    <tr>\n",
       "      <th>...</th>\n",
       "      <td>...</td>\n",
       "      <td>...</td>\n",
       "      <td>...</td>\n",
       "      <td>...</td>\n",
       "      <td>...</td>\n",
       "      <td>...</td>\n",
       "      <td>...</td>\n",
       "      <td>...</td>\n",
       "      <td>...</td>\n",
       "      <td>...</td>\n",
       "      <td>...</td>\n",
       "      <td>...</td>\n",
       "      <td>...</td>\n",
       "    </tr>\n",
       "    <tr>\n",
       "      <th>244</th>\n",
       "      <td>Male</td>\n",
       "      <td>57.0</td>\n",
       "      <td>0</td>\n",
       "      <td>0</td>\n",
       "      <td>Yes</td>\n",
       "      <td>Private</td>\n",
       "      <td>Rural</td>\n",
       "      <td>84.96</td>\n",
       "      <td>36.7</td>\n",
       "      <td>Unknown</td>\n",
       "      <td>1</td>\n",
       "      <td>Normal</td>\n",
       "      <td>High</td>\n",
       "    </tr>\n",
       "    <tr>\n",
       "      <th>245</th>\n",
       "      <td>Female</td>\n",
       "      <td>14.0</td>\n",
       "      <td>0</td>\n",
       "      <td>0</td>\n",
       "      <td>No</td>\n",
       "      <td>children</td>\n",
       "      <td>Rural</td>\n",
       "      <td>57.93</td>\n",
       "      <td>30.9</td>\n",
       "      <td>Unknown</td>\n",
       "      <td>1</td>\n",
       "      <td>Normal</td>\n",
       "      <td>High</td>\n",
       "    </tr>\n",
       "    <tr>\n",
       "      <th>246</th>\n",
       "      <td>Female</td>\n",
       "      <td>75.0</td>\n",
       "      <td>0</td>\n",
       "      <td>0</td>\n",
       "      <td>Yes</td>\n",
       "      <td>Self-employed</td>\n",
       "      <td>Rural</td>\n",
       "      <td>78.80</td>\n",
       "      <td>29.3</td>\n",
       "      <td>formerly smoked</td>\n",
       "      <td>1</td>\n",
       "      <td>Normal</td>\n",
       "      <td>High</td>\n",
       "    </tr>\n",
       "    <tr>\n",
       "      <th>247</th>\n",
       "      <td>Male</td>\n",
       "      <td>71.0</td>\n",
       "      <td>1</td>\n",
       "      <td>0</td>\n",
       "      <td>Yes</td>\n",
       "      <td>Self-employed</td>\n",
       "      <td>Rural</td>\n",
       "      <td>87.80</td>\n",
       "      <td>NaN</td>\n",
       "      <td>Unknown</td>\n",
       "      <td>1</td>\n",
       "      <td>Normal</td>\n",
       "      <td>Normal</td>\n",
       "    </tr>\n",
       "    <tr>\n",
       "      <th>248</th>\n",
       "      <td>Female</td>\n",
       "      <td>78.0</td>\n",
       "      <td>0</td>\n",
       "      <td>0</td>\n",
       "      <td>Yes</td>\n",
       "      <td>Private</td>\n",
       "      <td>Rural</td>\n",
       "      <td>78.81</td>\n",
       "      <td>19.6</td>\n",
       "      <td>Unknown</td>\n",
       "      <td>1</td>\n",
       "      <td>Normal</td>\n",
       "      <td>Normal</td>\n",
       "    </tr>\n",
       "  </tbody>\n",
       "</table>\n",
       "<p>161 rows × 13 columns</p>\n",
       "</div>"
      ],
      "text/plain": [
       "     gender   age  hypertension  heart_disease ever_married      work_type  \\\n",
       "2      Male  80.0             0              1          Yes        Private   \n",
       "6      Male  74.0             1              1          Yes        Private   \n",
       "7    Female  69.0             0              0           No        Private   \n",
       "8    Female  59.0             0              0          Yes        Private   \n",
       "9    Female  78.0             0              0          Yes        Private   \n",
       "..      ...   ...           ...            ...          ...            ...   \n",
       "244    Male  57.0             0              0          Yes        Private   \n",
       "245  Female  14.0             0              0           No       children   \n",
       "246  Female  75.0             0              0          Yes  Self-employed   \n",
       "247    Male  71.0             1              0          Yes  Self-employed   \n",
       "248  Female  78.0             0              0          Yes        Private   \n",
       "\n",
       "    Residence_type  avg_glucose_level   bmi   smoking_status  stroke  \\\n",
       "2            Rural             105.92  32.5     never smoked       1   \n",
       "6            Rural              70.09  27.4     never smoked       1   \n",
       "7            Urban              94.39  22.8     never smoked       1   \n",
       "8            Rural              76.15   NaN          Unknown       1   \n",
       "9            Urban              58.57  24.2          Unknown       1   \n",
       "..             ...                ...   ...              ...     ...   \n",
       "244          Rural              84.96  36.7          Unknown       1   \n",
       "245          Rural              57.93  30.9          Unknown       1   \n",
       "246          Rural              78.80  29.3  formerly smoked       1   \n",
       "247          Rural              87.80   NaN          Unknown       1   \n",
       "248          Rural              78.81  19.6          Unknown       1   \n",
       "\n",
       "    high_or_low_glucose high_bmi  \n",
       "2                Normal     High  \n",
       "6                Normal     High  \n",
       "7                Normal   Normal  \n",
       "8                Normal   Normal  \n",
       "9                Normal   Normal  \n",
       "..                  ...      ...  \n",
       "244              Normal     High  \n",
       "245              Normal     High  \n",
       "246              Normal     High  \n",
       "247              Normal   Normal  \n",
       "248              Normal   Normal  \n",
       "\n",
       "[161 rows x 13 columns]"
      ]
     },
     "execution_count": 39,
     "metadata": {},
     "output_type": "execute_result"
    }
   ],
   "source": [
    "#Create filter for only true positives\n",
    "pos_filter = stroke_df[stroke_df['stroke'] == 1]\n",
    "pos_filter"
   ]
  },
  {
   "cell_type": "code",
   "execution_count": 40,
   "metadata": {
    "colab": {
     "base_uri": "https://localhost:8080/",
     "height": 270
    },
    "id": "Kw9uqy6j0IUV",
    "outputId": "fb0e001d-241a-48dd-92ad-4e377a9d65cb"
   },
   "outputs": [
    {
     "data": {
      "text/html": [
       "<div>\n",
       "<style scoped>\n",
       "    .dataframe tbody tr th:only-of-type {\n",
       "        vertical-align: middle;\n",
       "    }\n",
       "\n",
       "    .dataframe tbody tr th {\n",
       "        vertical-align: top;\n",
       "    }\n",
       "\n",
       "    .dataframe thead th {\n",
       "        text-align: right;\n",
       "    }\n",
       "</style>\n",
       "<table border=\"1\" class=\"dataframe\">\n",
       "  <thead>\n",
       "    <tr style=\"text-align: right;\">\n",
       "      <th></th>\n",
       "      <th>gender</th>\n",
       "      <th>age</th>\n",
       "      <th>hypertension</th>\n",
       "      <th>heart_disease</th>\n",
       "      <th>ever_married</th>\n",
       "      <th>work_type</th>\n",
       "      <th>Residence_type</th>\n",
       "      <th>avg_glucose_level</th>\n",
       "      <th>bmi</th>\n",
       "      <th>smoking_status</th>\n",
       "      <th>stroke</th>\n",
       "      <th>high_or_low_glucose</th>\n",
       "      <th>high_bmi</th>\n",
       "    </tr>\n",
       "  </thead>\n",
       "  <tbody>\n",
       "    <tr>\n",
       "      <th>2441</th>\n",
       "      <td>Female</td>\n",
       "      <td>65.0</td>\n",
       "      <td>0</td>\n",
       "      <td>0</td>\n",
       "      <td>Yes</td>\n",
       "      <td>Govt_job</td>\n",
       "      <td>Urban</td>\n",
       "      <td>84.47</td>\n",
       "      <td>52.7</td>\n",
       "      <td>smokes</td>\n",
       "      <td>0</td>\n",
       "      <td>Normal</td>\n",
       "      <td>High</td>\n",
       "    </tr>\n",
       "    <tr>\n",
       "      <th>4536</th>\n",
       "      <td>Female</td>\n",
       "      <td>68.0</td>\n",
       "      <td>1</td>\n",
       "      <td>0</td>\n",
       "      <td>Yes</td>\n",
       "      <td>Private</td>\n",
       "      <td>Urban</td>\n",
       "      <td>150.74</td>\n",
       "      <td>40.3</td>\n",
       "      <td>Unknown</td>\n",
       "      <td>0</td>\n",
       "      <td>High</td>\n",
       "      <td>High</td>\n",
       "    </tr>\n",
       "    <tr>\n",
       "      <th>1454</th>\n",
       "      <td>Male</td>\n",
       "      <td>62.0</td>\n",
       "      <td>0</td>\n",
       "      <td>0</td>\n",
       "      <td>Yes</td>\n",
       "      <td>Private</td>\n",
       "      <td>Rural</td>\n",
       "      <td>115.13</td>\n",
       "      <td>30.0</td>\n",
       "      <td>smokes</td>\n",
       "      <td>0</td>\n",
       "      <td>Normal</td>\n",
       "      <td>High</td>\n",
       "    </tr>\n",
       "    <tr>\n",
       "      <th>4776</th>\n",
       "      <td>Female</td>\n",
       "      <td>40.0</td>\n",
       "      <td>0</td>\n",
       "      <td>0</td>\n",
       "      <td>Yes</td>\n",
       "      <td>Private</td>\n",
       "      <td>Urban</td>\n",
       "      <td>65.42</td>\n",
       "      <td>17.4</td>\n",
       "      <td>formerly smoked</td>\n",
       "      <td>0</td>\n",
       "      <td>Normal</td>\n",
       "      <td>Normal</td>\n",
       "    </tr>\n",
       "    <tr>\n",
       "      <th>3856</th>\n",
       "      <td>Male</td>\n",
       "      <td>50.0</td>\n",
       "      <td>0</td>\n",
       "      <td>0</td>\n",
       "      <td>Yes</td>\n",
       "      <td>Self-employed</td>\n",
       "      <td>Urban</td>\n",
       "      <td>101.85</td>\n",
       "      <td>25.1</td>\n",
       "      <td>smokes</td>\n",
       "      <td>0</td>\n",
       "      <td>Normal</td>\n",
       "      <td>High</td>\n",
       "    </tr>\n",
       "  </tbody>\n",
       "</table>\n",
       "</div>"
      ],
      "text/plain": [
       "      gender   age  hypertension  heart_disease ever_married      work_type  \\\n",
       "2441  Female  65.0             0              0          Yes       Govt_job   \n",
       "4536  Female  68.0             1              0          Yes        Private   \n",
       "1454    Male  62.0             0              0          Yes        Private   \n",
       "4776  Female  40.0             0              0          Yes        Private   \n",
       "3856    Male  50.0             0              0          Yes  Self-employed   \n",
       "\n",
       "     Residence_type  avg_glucose_level   bmi   smoking_status  stroke  \\\n",
       "2441          Urban              84.47  52.7           smokes       0   \n",
       "4536          Urban             150.74  40.3          Unknown       0   \n",
       "1454          Rural             115.13  30.0           smokes       0   \n",
       "4776          Urban              65.42  17.4  formerly smoked       0   \n",
       "3856          Urban             101.85  25.1           smokes       0   \n",
       "\n",
       "     high_or_low_glucose high_bmi  \n",
       "2441              Normal     High  \n",
       "4536                High     High  \n",
       "1454              Normal     High  \n",
       "4776              Normal   Normal  \n",
       "3856              Normal     High  "
      ]
     },
     "execution_count": 40,
     "metadata": {},
     "output_type": "execute_result"
    }
   ],
   "source": [
    "#Create filter to sample 500 true negatives\n",
    "neg_filter = stroke_df[stroke_df['stroke'] == 0]\n",
    "neg_filter = neg_filter.sample(n = 500)\n",
    "neg_filter.head()"
   ]
  },
  {
   "cell_type": "code",
   "execution_count": 41,
   "metadata": {
    "colab": {
     "base_uri": "https://localhost:8080/"
    },
    "id": "WjBqqPIw02_3",
    "outputId": "5564da34-6846-4a43-fba3-55204501a123"
   },
   "outputs": [
    {
     "name": "stdout",
     "output_type": "stream",
     "text": [
      "<class 'pandas.core.frame.DataFrame'>\n",
      "Int64Index: 661 entries, 2441 to 248\n",
      "Data columns (total 13 columns):\n",
      " #   Column               Non-Null Count  Dtype  \n",
      "---  ------               --------------  -----  \n",
      " 0   gender               661 non-null    object \n",
      " 1   age                  661 non-null    float64\n",
      " 2   hypertension         661 non-null    int64  \n",
      " 3   heart_disease        661 non-null    int64  \n",
      " 4   ever_married         661 non-null    object \n",
      " 5   work_type            661 non-null    object \n",
      " 6   Residence_type       661 non-null    object \n",
      " 7   avg_glucose_level    661 non-null    float64\n",
      " 8   bmi                  621 non-null    float64\n",
      " 9   smoking_status       661 non-null    object \n",
      " 10  stroke               661 non-null    int64  \n",
      " 11  high_or_low_glucose  661 non-null    object \n",
      " 12  high_bmi             661 non-null    object \n",
      "dtypes: float64(3), int64(3), object(7)\n",
      "memory usage: 72.3+ KB\n"
     ]
    }
   ],
   "source": [
    "#Combine filters into one dataframe\n",
    "frames = [neg_filter, pos_filter]\n",
    "stroke_df = pd.concat(frames)\n",
    "stroke_df.info()"
   ]
  },
  {
   "cell_type": "code",
   "execution_count": 42,
   "metadata": {
    "id": "PMwzLLFmj3-9"
   },
   "outputs": [],
   "source": [
    "# Identify features and target\n",
    "X = stroke_df.drop(columns = \"stroke\").copy()\n",
    "y = stroke_df[\"stroke\"].copy()\n",
    "\n",
    "# Train, test, split- stratify so train and test values have same proportions\n",
    "X_train, X_test, y_train, y_test = train_test_split(X, y, stratify = y , random_state=42)"
   ]
  },
  {
   "cell_type": "code",
   "execution_count": 43,
   "metadata": {
    "id": "_SLWsAibkID7"
   },
   "outputs": [],
   "source": [
    "# Using Simple Imputer to fill in missing columns for the bmi column with the mean\n",
    "mean_imputer = SimpleImputer(strategy = 'mean')"
   ]
  },
  {
   "cell_type": "code",
   "execution_count": 44,
   "metadata": {
    "id": "qprr9usykmez"
   },
   "outputs": [],
   "source": [
    "#Instantiate StandardScaler and OneHotEncoder\n",
    "scaler = StandardScaler()\n",
    "ohe = OneHotEncoder(sparse = False, handle_unknown='ignore')"
   ]
  },
  {
   "cell_type": "code",
   "execution_count": 45,
   "metadata": {
    "id": "ZCVt9YmnkqNO"
   },
   "outputs": [],
   "source": [
    "#Make column selector for missing values\n",
    "nominal_cols = make_column_selector(dtype_include = 'object')\n",
    "num_selector = make_column_selector(dtype_include = 'number')"
   ]
  },
  {
   "cell_type": "code",
   "execution_count": 46,
   "metadata": {
    "id": "7B77xp9ikwC3"
   },
   "outputs": [],
   "source": [
    "#Make Pipelines- Scaler for numeric values and OneHotEncoder for nominal values\n",
    "num_pipeline = make_pipeline(mean_imputer, scaler)\n",
    "nom_pipeline = make_pipeline(ohe)"
   ]
  },
  {
   "cell_type": "code",
   "execution_count": 47,
   "metadata": {
    "id": "ERE7a8hKlODG"
   },
   "outputs": [],
   "source": [
    "#Make Tuples\n",
    "numeric_tuple = (num_pipeline, num_selector)\n",
    "nominal_tuple = (nom_pipeline, nominal_cols)"
   ]
  },
  {
   "cell_type": "code",
   "execution_count": 48,
   "metadata": {
    "id": "Vwl40gWgkyaa"
   },
   "outputs": [],
   "source": [
    "#Make Preprocessor\n",
    "preprocessor = make_column_transformer(numeric_tuple,\n",
    "                                       nominal_tuple, remainder = 'passthrough')"
   ]
  },
  {
   "cell_type": "markdown",
   "metadata": {
    "id": "o2dsvG58mEg3"
   },
   "source": [
    "## KNN Model\n"
   ]
  },
  {
   "cell_type": "code",
   "execution_count": 49,
   "metadata": {
    "colab": {
     "base_uri": "https://localhost:8080/"
    },
    "id": "D9iOvsDbEwoH",
    "outputId": "4290ce37-b121-4eb2-c8d5-a6a934591a9d"
   },
   "outputs": [
    {
     "data": {
      "text/plain": [
       "{'memory': None,\n",
       " 'steps': [('columntransformer',\n",
       "   ColumnTransformer(remainder='passthrough',\n",
       "                     transformers=[('pipeline-1',\n",
       "                                    Pipeline(steps=[('simpleimputer',\n",
       "                                                     SimpleImputer()),\n",
       "                                                    ('standardscaler',\n",
       "                                                     StandardScaler())]),\n",
       "                                    <sklearn.compose._column_transformer.make_column_selector object at 0x144f1d640>),\n",
       "                                   ('pipeline-2',\n",
       "                                    Pipeline(steps=[('onehotencoder',\n",
       "                                                     OneHotEncoder(handle_unknown='ignore',\n",
       "                                                                   sparse=False))]),\n",
       "                                    <sklearn.compose._column_transformer.make_column_selector object at 0x144f29400>)])),\n",
       "  ('kneighborsclassifier', KNeighborsClassifier())],\n",
       " 'verbose': False,\n",
       " 'columntransformer': ColumnTransformer(remainder='passthrough',\n",
       "                   transformers=[('pipeline-1',\n",
       "                                  Pipeline(steps=[('simpleimputer',\n",
       "                                                   SimpleImputer()),\n",
       "                                                  ('standardscaler',\n",
       "                                                   StandardScaler())]),\n",
       "                                  <sklearn.compose._column_transformer.make_column_selector object at 0x144f1d640>),\n",
       "                                 ('pipeline-2',\n",
       "                                  Pipeline(steps=[('onehotencoder',\n",
       "                                                   OneHotEncoder(handle_unknown='ignore',\n",
       "                                                                 sparse=False))]),\n",
       "                                  <sklearn.compose._column_transformer.make_column_selector object at 0x144f29400>)]),\n",
       " 'kneighborsclassifier': KNeighborsClassifier(),\n",
       " 'columntransformer__n_jobs': None,\n",
       " 'columntransformer__remainder': 'passthrough',\n",
       " 'columntransformer__sparse_threshold': 0.3,\n",
       " 'columntransformer__transformer_weights': None,\n",
       " 'columntransformer__transformers': [('pipeline-1',\n",
       "   Pipeline(steps=[('simpleimputer', SimpleImputer()),\n",
       "                   ('standardscaler', StandardScaler())]),\n",
       "   <sklearn.compose._column_transformer.make_column_selector at 0x144f1d640>),\n",
       "  ('pipeline-2',\n",
       "   Pipeline(steps=[('onehotencoder',\n",
       "                    OneHotEncoder(handle_unknown='ignore', sparse=False))]),\n",
       "   <sklearn.compose._column_transformer.make_column_selector at 0x144f29400>)],\n",
       " 'columntransformer__verbose': False,\n",
       " 'columntransformer__verbose_feature_names_out': True,\n",
       " 'columntransformer__pipeline-1': Pipeline(steps=[('simpleimputer', SimpleImputer()),\n",
       "                 ('standardscaler', StandardScaler())]),\n",
       " 'columntransformer__pipeline-2': Pipeline(steps=[('onehotencoder',\n",
       "                  OneHotEncoder(handle_unknown='ignore', sparse=False))]),\n",
       " 'columntransformer__pipeline-1__memory': None,\n",
       " 'columntransformer__pipeline-1__steps': [('simpleimputer', SimpleImputer()),\n",
       "  ('standardscaler', StandardScaler())],\n",
       " 'columntransformer__pipeline-1__verbose': False,\n",
       " 'columntransformer__pipeline-1__simpleimputer': SimpleImputer(),\n",
       " 'columntransformer__pipeline-1__standardscaler': StandardScaler(),\n",
       " 'columntransformer__pipeline-1__simpleimputer__add_indicator': False,\n",
       " 'columntransformer__pipeline-1__simpleimputer__copy': True,\n",
       " 'columntransformer__pipeline-1__simpleimputer__fill_value': None,\n",
       " 'columntransformer__pipeline-1__simpleimputer__missing_values': nan,\n",
       " 'columntransformer__pipeline-1__simpleimputer__strategy': 'mean',\n",
       " 'columntransformer__pipeline-1__simpleimputer__verbose': 'deprecated',\n",
       " 'columntransformer__pipeline-1__standardscaler__copy': True,\n",
       " 'columntransformer__pipeline-1__standardscaler__with_mean': True,\n",
       " 'columntransformer__pipeline-1__standardscaler__with_std': True,\n",
       " 'columntransformer__pipeline-2__memory': None,\n",
       " 'columntransformer__pipeline-2__steps': [('onehotencoder',\n",
       "   OneHotEncoder(handle_unknown='ignore', sparse=False))],\n",
       " 'columntransformer__pipeline-2__verbose': False,\n",
       " 'columntransformer__pipeline-2__onehotencoder': OneHotEncoder(handle_unknown='ignore', sparse=False),\n",
       " 'columntransformer__pipeline-2__onehotencoder__categories': 'auto',\n",
       " 'columntransformer__pipeline-2__onehotencoder__drop': None,\n",
       " 'columntransformer__pipeline-2__onehotencoder__dtype': numpy.float64,\n",
       " 'columntransformer__pipeline-2__onehotencoder__handle_unknown': 'ignore',\n",
       " 'columntransformer__pipeline-2__onehotencoder__max_categories': None,\n",
       " 'columntransformer__pipeline-2__onehotencoder__min_frequency': None,\n",
       " 'columntransformer__pipeline-2__onehotencoder__sparse': False,\n",
       " 'kneighborsclassifier__algorithm': 'auto',\n",
       " 'kneighborsclassifier__leaf_size': 30,\n",
       " 'kneighborsclassifier__metric': 'minkowski',\n",
       " 'kneighborsclassifier__metric_params': None,\n",
       " 'kneighborsclassifier__n_jobs': None,\n",
       " 'kneighborsclassifier__n_neighbors': 5,\n",
       " 'kneighborsclassifier__p': 2,\n",
       " 'kneighborsclassifier__weights': 'uniform'}"
      ]
     },
     "execution_count": 49,
     "metadata": {},
     "output_type": "execute_result"
    }
   ],
   "source": [
    "#Instantiate KNN\n",
    "knn = KNeighborsClassifier()\n",
    "\n",
    "knn_pipe = make_pipeline(preprocessor, knn)\n",
    "\n",
    "knn_pipe.get_params()"
   ]
  },
  {
   "cell_type": "code",
   "execution_count": 50,
   "metadata": {
    "id": "yNlA_A_eFZ1H"
   },
   "outputs": [],
   "source": [
    "#Identify hyperparameters to tune\n",
    "knn_param_grid = {'kneighborsclassifier__n_neighbors': range(1,10),\n",
    "                  'kneighborsclassifier__p': range(1,5),\n",
    "                  'kneighborsclassifier__weights': ['distance','uniform']}"
   ]
  },
  {
   "cell_type": "code",
   "execution_count": 51,
   "metadata": {
    "colab": {
     "base_uri": "https://localhost:8080/"
    },
    "id": "heXA7jeqFeyD",
    "outputId": "87a81d9a-e7f3-47c6-ed6e-448896472df3"
   },
   "outputs": [
    {
     "name": "stdout",
     "output_type": "stream",
     "text": [
      "Best KNN Parameters:\n",
      "{'kneighborsclassifier__n_neighbors': 7, 'kneighborsclassifier__p': 4, 'kneighborsclassifier__weights': 'uniform'}\n",
      "Accuracy of best KNN model is: 0.7469879518072289\n"
     ]
    }
   ],
   "source": [
    "#Filter out warnings\n",
    "import warnings\n",
    "warnings.filterwarnings('ignore')\n",
    "\n",
    "#Tune hyperparameters using GridSearchCV\n",
    "knn_pipe_gs = GridSearchCV(knn_pipe, knn_param_grid)\n",
    "\n",
    "knn_pipe_gs.fit(X_train, y_train)\n",
    "print('Best KNN Parameters:')\n",
    "print(knn_pipe_gs.best_params_)\n",
    "best_pipe = knn_pipe_gs.best_estimator_\n",
    "print(f'Accuracy of best KNN model is: {best_pipe.score(X_test, y_test)}')"
   ]
  },
  {
   "cell_type": "code",
   "execution_count": 52,
   "metadata": {
    "colab": {
     "base_uri": "https://localhost:8080/",
     "height": 227
    },
    "id": "NIBGCvVSNxOE",
    "outputId": "6b52337d-2732-4067-da11-b4aa9bda005b"
   },
   "outputs": [
    {
     "data": {
      "text/html": [
       "<style>#sk-container-id-1 {color: black;background-color: white;}#sk-container-id-1 pre{padding: 0;}#sk-container-id-1 div.sk-toggleable {background-color: white;}#sk-container-id-1 label.sk-toggleable__label {cursor: pointer;display: block;width: 100%;margin-bottom: 0;padding: 0.3em;box-sizing: border-box;text-align: center;}#sk-container-id-1 label.sk-toggleable__label-arrow:before {content: \"▸\";float: left;margin-right: 0.25em;color: #696969;}#sk-container-id-1 label.sk-toggleable__label-arrow:hover:before {color: black;}#sk-container-id-1 div.sk-estimator:hover label.sk-toggleable__label-arrow:before {color: black;}#sk-container-id-1 div.sk-toggleable__content {max-height: 0;max-width: 0;overflow: hidden;text-align: left;background-color: #f0f8ff;}#sk-container-id-1 div.sk-toggleable__content pre {margin: 0.2em;color: black;border-radius: 0.25em;background-color: #f0f8ff;}#sk-container-id-1 input.sk-toggleable__control:checked~div.sk-toggleable__content {max-height: 200px;max-width: 100%;overflow: auto;}#sk-container-id-1 input.sk-toggleable__control:checked~label.sk-toggleable__label-arrow:before {content: \"▾\";}#sk-container-id-1 div.sk-estimator input.sk-toggleable__control:checked~label.sk-toggleable__label {background-color: #d4ebff;}#sk-container-id-1 div.sk-label input.sk-toggleable__control:checked~label.sk-toggleable__label {background-color: #d4ebff;}#sk-container-id-1 input.sk-hidden--visually {border: 0;clip: rect(1px 1px 1px 1px);clip: rect(1px, 1px, 1px, 1px);height: 1px;margin: -1px;overflow: hidden;padding: 0;position: absolute;width: 1px;}#sk-container-id-1 div.sk-estimator {font-family: monospace;background-color: #f0f8ff;border: 1px dotted black;border-radius: 0.25em;box-sizing: border-box;margin-bottom: 0.5em;}#sk-container-id-1 div.sk-estimator:hover {background-color: #d4ebff;}#sk-container-id-1 div.sk-parallel-item::after {content: \"\";width: 100%;border-bottom: 1px solid gray;flex-grow: 1;}#sk-container-id-1 div.sk-label:hover label.sk-toggleable__label {background-color: #d4ebff;}#sk-container-id-1 div.sk-serial::before {content: \"\";position: absolute;border-left: 1px solid gray;box-sizing: border-box;top: 0;bottom: 0;left: 50%;z-index: 0;}#sk-container-id-1 div.sk-serial {display: flex;flex-direction: column;align-items: center;background-color: white;padding-right: 0.2em;padding-left: 0.2em;position: relative;}#sk-container-id-1 div.sk-item {position: relative;z-index: 1;}#sk-container-id-1 div.sk-parallel {display: flex;align-items: stretch;justify-content: center;background-color: white;position: relative;}#sk-container-id-1 div.sk-item::before, #sk-container-id-1 div.sk-parallel-item::before {content: \"\";position: absolute;border-left: 1px solid gray;box-sizing: border-box;top: 0;bottom: 0;left: 50%;z-index: -1;}#sk-container-id-1 div.sk-parallel-item {display: flex;flex-direction: column;z-index: 1;position: relative;background-color: white;}#sk-container-id-1 div.sk-parallel-item:first-child::after {align-self: flex-end;width: 50%;}#sk-container-id-1 div.sk-parallel-item:last-child::after {align-self: flex-start;width: 50%;}#sk-container-id-1 div.sk-parallel-item:only-child::after {width: 0;}#sk-container-id-1 div.sk-dashed-wrapped {border: 1px dashed gray;margin: 0 0.4em 0.5em 0.4em;box-sizing: border-box;padding-bottom: 0.4em;background-color: white;}#sk-container-id-1 div.sk-label label {font-family: monospace;font-weight: bold;display: inline-block;line-height: 1.2em;}#sk-container-id-1 div.sk-label-container {text-align: center;}#sk-container-id-1 div.sk-container {/* jupyter's `normalize.less` sets `[hidden] { display: none; }` but bootstrap.min.css set `[hidden] { display: none !important; }` so we also need the `!important` here to be able to override the default hidden behavior on the sphinx rendered scikit-learn.org. See: https://github.com/scikit-learn/scikit-learn/issues/21755 */display: inline-block !important;position: relative;}#sk-container-id-1 div.sk-text-repr-fallback {display: none;}</style><div id=\"sk-container-id-1\" class=\"sk-top-container\"><div class=\"sk-text-repr-fallback\"><pre>Pipeline(steps=[(&#x27;columntransformer&#x27;,\n",
       "                 ColumnTransformer(remainder=&#x27;passthrough&#x27;,\n",
       "                                   transformers=[(&#x27;pipeline-1&#x27;,\n",
       "                                                  Pipeline(steps=[(&#x27;simpleimputer&#x27;,\n",
       "                                                                   SimpleImputer()),\n",
       "                                                                  (&#x27;standardscaler&#x27;,\n",
       "                                                                   StandardScaler())]),\n",
       "                                                  &lt;sklearn.compose._column_transformer.make_column_selector object at 0x144f1d640&gt;),\n",
       "                                                 (&#x27;pipeline-2&#x27;,\n",
       "                                                  Pipeline(steps=[(&#x27;onehotencoder&#x27;,\n",
       "                                                                   OneHotEncoder(handle_unknown=&#x27;ignore&#x27;,\n",
       "                                                                                 sparse=False))]),\n",
       "                                                  &lt;sklearn.compose._column_transformer.make_column_selector object at 0x144f29400&gt;)])),\n",
       "                (&#x27;kneighborsclassifier&#x27;,\n",
       "                 KNeighborsClassifier(n_neighbors=7, p=3))])</pre><b>In a Jupyter environment, please rerun this cell to show the HTML representation or trust the notebook. <br />On GitHub, the HTML representation is unable to render, please try loading this page with nbviewer.org.</b></div><div class=\"sk-container\" hidden><div class=\"sk-item sk-dashed-wrapped\"><div class=\"sk-label-container\"><div class=\"sk-label sk-toggleable\"><input class=\"sk-toggleable__control sk-hidden--visually\" id=\"sk-estimator-id-1\" type=\"checkbox\" ><label for=\"sk-estimator-id-1\" class=\"sk-toggleable__label sk-toggleable__label-arrow\">Pipeline</label><div class=\"sk-toggleable__content\"><pre>Pipeline(steps=[(&#x27;columntransformer&#x27;,\n",
       "                 ColumnTransformer(remainder=&#x27;passthrough&#x27;,\n",
       "                                   transformers=[(&#x27;pipeline-1&#x27;,\n",
       "                                                  Pipeline(steps=[(&#x27;simpleimputer&#x27;,\n",
       "                                                                   SimpleImputer()),\n",
       "                                                                  (&#x27;standardscaler&#x27;,\n",
       "                                                                   StandardScaler())]),\n",
       "                                                  &lt;sklearn.compose._column_transformer.make_column_selector object at 0x144f1d640&gt;),\n",
       "                                                 (&#x27;pipeline-2&#x27;,\n",
       "                                                  Pipeline(steps=[(&#x27;onehotencoder&#x27;,\n",
       "                                                                   OneHotEncoder(handle_unknown=&#x27;ignore&#x27;,\n",
       "                                                                                 sparse=False))]),\n",
       "                                                  &lt;sklearn.compose._column_transformer.make_column_selector object at 0x144f29400&gt;)])),\n",
       "                (&#x27;kneighborsclassifier&#x27;,\n",
       "                 KNeighborsClassifier(n_neighbors=7, p=3))])</pre></div></div></div><div class=\"sk-serial\"><div class=\"sk-item sk-dashed-wrapped\"><div class=\"sk-label-container\"><div class=\"sk-label sk-toggleable\"><input class=\"sk-toggleable__control sk-hidden--visually\" id=\"sk-estimator-id-2\" type=\"checkbox\" ><label for=\"sk-estimator-id-2\" class=\"sk-toggleable__label sk-toggleable__label-arrow\">columntransformer: ColumnTransformer</label><div class=\"sk-toggleable__content\"><pre>ColumnTransformer(remainder=&#x27;passthrough&#x27;,\n",
       "                  transformers=[(&#x27;pipeline-1&#x27;,\n",
       "                                 Pipeline(steps=[(&#x27;simpleimputer&#x27;,\n",
       "                                                  SimpleImputer()),\n",
       "                                                 (&#x27;standardscaler&#x27;,\n",
       "                                                  StandardScaler())]),\n",
       "                                 &lt;sklearn.compose._column_transformer.make_column_selector object at 0x144f1d640&gt;),\n",
       "                                (&#x27;pipeline-2&#x27;,\n",
       "                                 Pipeline(steps=[(&#x27;onehotencoder&#x27;,\n",
       "                                                  OneHotEncoder(handle_unknown=&#x27;ignore&#x27;,\n",
       "                                                                sparse=False))]),\n",
       "                                 &lt;sklearn.compose._column_transformer.make_column_selector object at 0x144f29400&gt;)])</pre></div></div></div><div class=\"sk-parallel\"><div class=\"sk-parallel-item\"><div class=\"sk-item\"><div class=\"sk-label-container\"><div class=\"sk-label sk-toggleable\"><input class=\"sk-toggleable__control sk-hidden--visually\" id=\"sk-estimator-id-3\" type=\"checkbox\" ><label for=\"sk-estimator-id-3\" class=\"sk-toggleable__label sk-toggleable__label-arrow\">pipeline-1</label><div class=\"sk-toggleable__content\"><pre>&lt;sklearn.compose._column_transformer.make_column_selector object at 0x144f1d640&gt;</pre></div></div></div><div class=\"sk-serial\"><div class=\"sk-item\"><div class=\"sk-serial\"><div class=\"sk-item\"><div class=\"sk-estimator sk-toggleable\"><input class=\"sk-toggleable__control sk-hidden--visually\" id=\"sk-estimator-id-4\" type=\"checkbox\" ><label for=\"sk-estimator-id-4\" class=\"sk-toggleable__label sk-toggleable__label-arrow\">SimpleImputer</label><div class=\"sk-toggleable__content\"><pre>SimpleImputer()</pre></div></div></div><div class=\"sk-item\"><div class=\"sk-estimator sk-toggleable\"><input class=\"sk-toggleable__control sk-hidden--visually\" id=\"sk-estimator-id-5\" type=\"checkbox\" ><label for=\"sk-estimator-id-5\" class=\"sk-toggleable__label sk-toggleable__label-arrow\">StandardScaler</label><div class=\"sk-toggleable__content\"><pre>StandardScaler()</pre></div></div></div></div></div></div></div></div><div class=\"sk-parallel-item\"><div class=\"sk-item\"><div class=\"sk-label-container\"><div class=\"sk-label sk-toggleable\"><input class=\"sk-toggleable__control sk-hidden--visually\" id=\"sk-estimator-id-6\" type=\"checkbox\" ><label for=\"sk-estimator-id-6\" class=\"sk-toggleable__label sk-toggleable__label-arrow\">pipeline-2</label><div class=\"sk-toggleable__content\"><pre>&lt;sklearn.compose._column_transformer.make_column_selector object at 0x144f29400&gt;</pre></div></div></div><div class=\"sk-serial\"><div class=\"sk-item\"><div class=\"sk-serial\"><div class=\"sk-item\"><div class=\"sk-estimator sk-toggleable\"><input class=\"sk-toggleable__control sk-hidden--visually\" id=\"sk-estimator-id-7\" type=\"checkbox\" ><label for=\"sk-estimator-id-7\" class=\"sk-toggleable__label sk-toggleable__label-arrow\">OneHotEncoder</label><div class=\"sk-toggleable__content\"><pre>OneHotEncoder(handle_unknown=&#x27;ignore&#x27;, sparse=False)</pre></div></div></div></div></div></div></div></div><div class=\"sk-parallel-item\"><div class=\"sk-item\"><div class=\"sk-label-container\"><div class=\"sk-label sk-toggleable\"><input class=\"sk-toggleable__control sk-hidden--visually\" id=\"sk-estimator-id-8\" type=\"checkbox\" ><label for=\"sk-estimator-id-8\" class=\"sk-toggleable__label sk-toggleable__label-arrow\">remainder</label><div class=\"sk-toggleable__content\"><pre>[]</pre></div></div></div><div class=\"sk-serial\"><div class=\"sk-item\"><div class=\"sk-estimator sk-toggleable\"><input class=\"sk-toggleable__control sk-hidden--visually\" id=\"sk-estimator-id-9\" type=\"checkbox\" ><label for=\"sk-estimator-id-9\" class=\"sk-toggleable__label sk-toggleable__label-arrow\">passthrough</label><div class=\"sk-toggleable__content\"><pre>passthrough</pre></div></div></div></div></div></div></div></div><div class=\"sk-item\"><div class=\"sk-estimator sk-toggleable\"><input class=\"sk-toggleable__control sk-hidden--visually\" id=\"sk-estimator-id-10\" type=\"checkbox\" ><label for=\"sk-estimator-id-10\" class=\"sk-toggleable__label sk-toggleable__label-arrow\">KNeighborsClassifier</label><div class=\"sk-toggleable__content\"><pre>KNeighborsClassifier(n_neighbors=7, p=3)</pre></div></div></div></div></div></div></div>"
      ],
      "text/plain": [
       "Pipeline(steps=[('columntransformer',\n",
       "                 ColumnTransformer(remainder='passthrough',\n",
       "                                   transformers=[('pipeline-1',\n",
       "                                                  Pipeline(steps=[('simpleimputer',\n",
       "                                                                   SimpleImputer()),\n",
       "                                                                  ('standardscaler',\n",
       "                                                                   StandardScaler())]),\n",
       "                                                  <sklearn.compose._column_transformer.make_column_selector object at 0x144f1d640>),\n",
       "                                                 ('pipeline-2',\n",
       "                                                  Pipeline(steps=[('onehotencoder',\n",
       "                                                                   OneHotEncoder(handle_unknown='ignore',\n",
       "                                                                                 sparse=False))]),\n",
       "                                                  <sklearn.compose._column_transformer.make_column_selector object at 0x144f29400>)])),\n",
       "                ('kneighborsclassifier',\n",
       "                 KNeighborsClassifier(n_neighbors=7, p=3))])"
      ]
     },
     "execution_count": 52,
     "metadata": {},
     "output_type": "execute_result"
    }
   ],
   "source": [
    "# Create an instance of the best model\n",
    "knn = KNeighborsClassifier(n_neighbors= 7, p = 3)\n",
    "# Create a model pipeline\n",
    "tuned_knn_pipe = make_pipeline(preprocessor, knn)\n",
    "# Fit on train data\n",
    "tuned_knn_pipe.fit(X_train, y_train)"
   ]
  },
  {
   "cell_type": "code",
   "execution_count": 53,
   "metadata": {
    "id": "6RsJ3Kb2Omvp"
   },
   "outputs": [],
   "source": [
    "# Save the model's predictions for the test dataset\n",
    "knn_train_predictions = tuned_knn_pipe.predict(X_train)"
   ]
  },
  {
   "cell_type": "code",
   "execution_count": 54,
   "metadata": {
    "colab": {
     "base_uri": "https://localhost:8080/",
     "height": 435
    },
    "id": "g1izGZ6JOnDa",
    "outputId": "a389922b-0762-4103-8d89-cacce015457c"
   },
   "outputs": [
    {
     "name": "stdout",
     "output_type": "stream",
     "text": [
      "              precision    recall  f1-score   support\n",
      "\n",
      "           0       0.85      0.98      0.91       374\n",
      "           1       0.87      0.45      0.60       121\n",
      "\n",
      "    accuracy                           0.85       495\n",
      "   macro avg       0.86      0.72      0.75       495\n",
      "weighted avg       0.85      0.85      0.83       495\n",
      "\n"
     ]
    },
    {
     "data": {
      "image/png": "[encoded data removed]",
      "text/plain": [
       "<Figure size 640x480 with 2 Axes>"
      ]
     },
     "metadata": {},
     "output_type": "display_data"
    }
   ],
   "source": [
    "#Create a confusion matrix and get metrics\n",
    "ConfusionMatrixDisplay.from_predictions(y_train, knn_train_predictions);\n",
    "print(classification_report(y_train, knn_train_predictions))"
   ]
  },
  {
   "cell_type": "code",
   "execution_count": 55,
   "metadata": {
    "id": "YTxkgEDhN6oM"
   },
   "outputs": [],
   "source": [
    "# Save the model's predictions for the test dataset\n",
    "knn_test_predictions = tuned_knn_pipe.predict(X_test)"
   ]
  },
  {
   "cell_type": "code",
   "execution_count": 56,
   "metadata": {
    "colab": {
     "base_uri": "https://localhost:8080/",
     "height": 435
    },
    "id": "ayeaN2zwOELM",
    "outputId": "ba1654cf-651a-4d0a-d07c-21806f951ec1"
   },
   "outputs": [
    {
     "name": "stdout",
     "output_type": "stream",
     "text": [
      "              precision    recall  f1-score   support\n",
      "\n",
      "           0       0.79      0.92      0.85       126\n",
      "           1       0.50      0.25      0.33        40\n",
      "\n",
      "    accuracy                           0.76       166\n",
      "   macro avg       0.65      0.59      0.59       166\n",
      "weighted avg       0.72      0.76      0.73       166\n",
      "\n"
     ]
    },
    {
     "data": {
      "image/png": "[encoded data removed]",
      "text/plain": [
       "<Figure size 640x480 with 2 Axes>"
      ]
     },
     "metadata": {},
     "output_type": "display_data"
    }
   ],
   "source": [
    "#Create a confusion matrix and get metrics\n",
    "ConfusionMatrixDisplay.from_predictions(y_test, knn_test_predictions);\n",
    "print(classification_report(y_test, knn_test_predictions))"
   ]
  },
  {
   "cell_type": "markdown",
   "metadata": {
    "id": "gtd7ixn5QRQA"
   },
   "source": [
    "## DecisionTree Model"
   ]
  },
  {
   "cell_type": "code",
   "execution_count": 57,
   "metadata": {
    "colab": {
     "base_uri": "https://localhost:8080/"
    },
    "id": "cTe-_kqsQTan",
    "outputId": "c387edd2-873f-4ff7-e23a-a7a1d9a37465"
   },
   "outputs": [
    {
     "data": {
      "text/plain": [
       "{'memory': None,\n",
       " 'steps': [('columntransformer',\n",
       "   ColumnTransformer(remainder='passthrough',\n",
       "                     transformers=[('pipeline-1',\n",
       "                                    Pipeline(steps=[('simpleimputer',\n",
       "                                                     SimpleImputer()),\n",
       "                                                    ('standardscaler',\n",
       "                                                     StandardScaler())]),\n",
       "                                    <sklearn.compose._column_transformer.make_column_selector object at 0x144f1d640>),\n",
       "                                   ('pipeline-2',\n",
       "                                    Pipeline(steps=[('onehotencoder',\n",
       "                                                     OneHotEncoder(handle_unknown='ignore',\n",
       "                                                                   sparse=False))]),\n",
       "                                    <sklearn.compose._column_transformer.make_column_selector object at 0x144f29400>)])),\n",
       "  ('decisiontreeclassifier', DecisionTreeClassifier(random_state=42))],\n",
       " 'verbose': False,\n",
       " 'columntransformer': ColumnTransformer(remainder='passthrough',\n",
       "                   transformers=[('pipeline-1',\n",
       "                                  Pipeline(steps=[('simpleimputer',\n",
       "                                                   SimpleImputer()),\n",
       "                                                  ('standardscaler',\n",
       "                                                   StandardScaler())]),\n",
       "                                  <sklearn.compose._column_transformer.make_column_selector object at 0x144f1d640>),\n",
       "                                 ('pipeline-2',\n",
       "                                  Pipeline(steps=[('onehotencoder',\n",
       "                                                   OneHotEncoder(handle_unknown='ignore',\n",
       "                                                                 sparse=False))]),\n",
       "                                  <sklearn.compose._column_transformer.make_column_selector object at 0x144f29400>)]),\n",
       " 'decisiontreeclassifier': DecisionTreeClassifier(random_state=42),\n",
       " 'columntransformer__n_jobs': None,\n",
       " 'columntransformer__remainder': 'passthrough',\n",
       " 'columntransformer__sparse_threshold': 0.3,\n",
       " 'columntransformer__transformer_weights': None,\n",
       " 'columntransformer__transformers': [('pipeline-1',\n",
       "   Pipeline(steps=[('simpleimputer', SimpleImputer()),\n",
       "                   ('standardscaler', StandardScaler())]),\n",
       "   <sklearn.compose._column_transformer.make_column_selector at 0x144f1d640>),\n",
       "  ('pipeline-2',\n",
       "   Pipeline(steps=[('onehotencoder',\n",
       "                    OneHotEncoder(handle_unknown='ignore', sparse=False))]),\n",
       "   <sklearn.compose._column_transformer.make_column_selector at 0x144f29400>)],\n",
       " 'columntransformer__verbose': False,\n",
       " 'columntransformer__verbose_feature_names_out': True,\n",
       " 'columntransformer__pipeline-1': Pipeline(steps=[('simpleimputer', SimpleImputer()),\n",
       "                 ('standardscaler', StandardScaler())]),\n",
       " 'columntransformer__pipeline-2': Pipeline(steps=[('onehotencoder',\n",
       "                  OneHotEncoder(handle_unknown='ignore', sparse=False))]),\n",
       " 'columntransformer__pipeline-1__memory': None,\n",
       " 'columntransformer__pipeline-1__steps': [('simpleimputer', SimpleImputer()),\n",
       "  ('standardscaler', StandardScaler())],\n",
       " 'columntransformer__pipeline-1__verbose': False,\n",
       " 'columntransformer__pipeline-1__simpleimputer': SimpleImputer(),\n",
       " 'columntransformer__pipeline-1__standardscaler': StandardScaler(),\n",
       " 'columntransformer__pipeline-1__simpleimputer__add_indicator': False,\n",
       " 'columntransformer__pipeline-1__simpleimputer__copy': True,\n",
       " 'columntransformer__pipeline-1__simpleimputer__fill_value': None,\n",
       " 'columntransformer__pipeline-1__simpleimputer__missing_values': nan,\n",
       " 'columntransformer__pipeline-1__simpleimputer__strategy': 'mean',\n",
       " 'columntransformer__pipeline-1__simpleimputer__verbose': 'deprecated',\n",
       " 'columntransformer__pipeline-1__standardscaler__copy': True,\n",
       " 'columntransformer__pipeline-1__standardscaler__with_mean': True,\n",
       " 'columntransformer__pipeline-1__standardscaler__with_std': True,\n",
       " 'columntransformer__pipeline-2__memory': None,\n",
       " 'columntransformer__pipeline-2__steps': [('onehotencoder',\n",
       "   OneHotEncoder(handle_unknown='ignore', sparse=False))],\n",
       " 'columntransformer__pipeline-2__verbose': False,\n",
       " 'columntransformer__pipeline-2__onehotencoder': OneHotEncoder(handle_unknown='ignore', sparse=False),\n",
       " 'columntransformer__pipeline-2__onehotencoder__categories': 'auto',\n",
       " 'columntransformer__pipeline-2__onehotencoder__drop': None,\n",
       " 'columntransformer__pipeline-2__onehotencoder__dtype': numpy.float64,\n",
       " 'columntransformer__pipeline-2__onehotencoder__handle_unknown': 'ignore',\n",
       " 'columntransformer__pipeline-2__onehotencoder__max_categories': None,\n",
       " 'columntransformer__pipeline-2__onehotencoder__min_frequency': None,\n",
       " 'columntransformer__pipeline-2__onehotencoder__sparse': False,\n",
       " 'decisiontreeclassifier__ccp_alpha': 0.0,\n",
       " 'decisiontreeclassifier__class_weight': None,\n",
       " 'decisiontreeclassifier__criterion': 'gini',\n",
       " 'decisiontreeclassifier__max_depth': None,\n",
       " 'decisiontreeclassifier__max_features': None,\n",
       " 'decisiontreeclassifier__max_leaf_nodes': None,\n",
       " 'decisiontreeclassifier__min_impurity_decrease': 0.0,\n",
       " 'decisiontreeclassifier__min_samples_leaf': 1,\n",
       " 'decisiontreeclassifier__min_samples_split': 2,\n",
       " 'decisiontreeclassifier__min_weight_fraction_leaf': 0.0,\n",
       " 'decisiontreeclassifier__random_state': 42,\n",
       " 'decisiontreeclassifier__splitter': 'best'}"
      ]
     },
     "execution_count": 57,
     "metadata": {},
     "output_type": "execute_result"
    }
   ],
   "source": [
    "dectree = DecisionTreeClassifier(random_state = 42)\n",
    "\n",
    "dectree_pipe = make_pipeline(preprocessor, dectree)\n",
    "\n",
    "dectree_pipe.get_params()"
   ]
  },
  {
   "cell_type": "code",
   "execution_count": 58,
   "metadata": {
    "id": "R7xLH7gVQ3D5"
   },
   "outputs": [],
   "source": [
    "#Identify hyperparameters to tune\n",
    "dectree_param_grid = {'decisiontreeclassifier__max_depth': range(1,10),\n",
    "                      'decisiontreeclassifier__min_samples_leaf': range(1,5),\n",
    "                      'decisiontreeclassifier__min_samples_split': range(1,10)}"
   ]
  },
  {
   "cell_type": "code",
   "execution_count": 59,
   "metadata": {
    "colab": {
     "base_uri": "https://localhost:8080/"
    },
    "id": "msMzfdD3RX2x",
    "outputId": "ca99eb8e-5833-4997-94e6-30506e809036"
   },
   "outputs": [
    {
     "name": "stdout",
     "output_type": "stream",
     "text": [
      "Best Decision Tree Parameters:\n",
      "{'decisiontreeclassifier__max_depth': 2, 'decisiontreeclassifier__min_samples_leaf': 1, 'decisiontreeclassifier__min_samples_split': 2}\n",
      "Accuracy of best Decision Tree model is: 0.7951807228915663\n"
     ]
    }
   ],
   "source": [
    "#Filter out warnings\n",
    "import warnings\n",
    "warnings.filterwarnings('ignore')\n",
    "\n",
    "#Tune hyperparameters using GridSearchCV\n",
    "dectree_pipe_gs = GridSearchCV(dectree_pipe, dectree_param_grid)\n",
    "\n",
    "dectree_pipe_gs.fit(X_train, y_train)\n",
    "print('Best Decision Tree Parameters:')\n",
    "print(dectree_pipe_gs.best_params_)\n",
    "best_pipe = dectree_pipe_gs.best_estimator_\n",
    "print(f'Accuracy of best Decision Tree model is: {best_pipe.score(X_test, y_test)}')"
   ]
  },
  {
   "cell_type": "code",
   "execution_count": 60,
   "metadata": {
    "colab": {
     "base_uri": "https://localhost:8080/",
     "height": 227
    },
    "id": "I3v37TgkGpmg",
    "outputId": "611e4bb3-8ae4-4c4d-dbba-24045fb49de7"
   },
   "outputs": [
    {
     "data": {
      "text/html": [
       "<style>#sk-container-id-2 {color: black;background-color: white;}#sk-container-id-2 pre{padding: 0;}#sk-container-id-2 div.sk-toggleable {background-color: white;}#sk-container-id-2 label.sk-toggleable__label {cursor: pointer;display: block;width: 100%;margin-bottom: 0;padding: 0.3em;box-sizing: border-box;text-align: center;}#sk-container-id-2 label.sk-toggleable__label-arrow:before {content: \"▸\";float: left;margin-right: 0.25em;color: #696969;}#sk-container-id-2 label.sk-toggleable__label-arrow:hover:before {color: black;}#sk-container-id-2 div.sk-estimator:hover label.sk-toggleable__label-arrow:before {color: black;}#sk-container-id-2 div.sk-toggleable__content {max-height: 0;max-width: 0;overflow: hidden;text-align: left;background-color: #f0f8ff;}#sk-container-id-2 div.sk-toggleable__content pre {margin: 0.2em;color: black;border-radius: 0.25em;background-color: #f0f8ff;}#sk-container-id-2 input.sk-toggleable__control:checked~div.sk-toggleable__content {max-height: 200px;max-width: 100%;overflow: auto;}#sk-container-id-2 input.sk-toggleable__control:checked~label.sk-toggleable__label-arrow:before {content: \"▾\";}#sk-container-id-2 div.sk-estimator input.sk-toggleable__control:checked~label.sk-toggleable__label {background-color: #d4ebff;}#sk-container-id-2 div.sk-label input.sk-toggleable__control:checked~label.sk-toggleable__label {background-color: #d4ebff;}#sk-container-id-2 input.sk-hidden--visually {border: 0;clip: rect(1px 1px 1px 1px);clip: rect(1px, 1px, 1px, 1px);height: 1px;margin: -1px;overflow: hidden;padding: 0;position: absolute;width: 1px;}#sk-container-id-2 div.sk-estimator {font-family: monospace;background-color: #f0f8ff;border: 1px dotted black;border-radius: 0.25em;box-sizing: border-box;margin-bottom: 0.5em;}#sk-container-id-2 div.sk-estimator:hover {background-color: #d4ebff;}#sk-container-id-2 div.sk-parallel-item::after {content: \"\";width: 100%;border-bottom: 1px solid gray;flex-grow: 1;}#sk-container-id-2 div.sk-label:hover label.sk-toggleable__label {background-color: #d4ebff;}#sk-container-id-2 div.sk-serial::before {content: \"\";position: absolute;border-left: 1px solid gray;box-sizing: border-box;top: 0;bottom: 0;left: 50%;z-index: 0;}#sk-container-id-2 div.sk-serial {display: flex;flex-direction: column;align-items: center;background-color: white;padding-right: 0.2em;padding-left: 0.2em;position: relative;}#sk-container-id-2 div.sk-item {position: relative;z-index: 1;}#sk-container-id-2 div.sk-parallel {display: flex;align-items: stretch;justify-content: center;background-color: white;position: relative;}#sk-container-id-2 div.sk-item::before, #sk-container-id-2 div.sk-parallel-item::before {content: \"\";position: absolute;border-left: 1px solid gray;box-sizing: border-box;top: 0;bottom: 0;left: 50%;z-index: -1;}#sk-container-id-2 div.sk-parallel-item {display: flex;flex-direction: column;z-index: 1;position: relative;background-color: white;}#sk-container-id-2 div.sk-parallel-item:first-child::after {align-self: flex-end;width: 50%;}#sk-container-id-2 div.sk-parallel-item:last-child::after {align-self: flex-start;width: 50%;}#sk-container-id-2 div.sk-parallel-item:only-child::after {width: 0;}#sk-container-id-2 div.sk-dashed-wrapped {border: 1px dashed gray;margin: 0 0.4em 0.5em 0.4em;box-sizing: border-box;padding-bottom: 0.4em;background-color: white;}#sk-container-id-2 div.sk-label label {font-family: monospace;font-weight: bold;display: inline-block;line-height: 1.2em;}#sk-container-id-2 div.sk-label-container {text-align: center;}#sk-container-id-2 div.sk-container {/* jupyter's `normalize.less` sets `[hidden] { display: none; }` but bootstrap.min.css set `[hidden] { display: none !important; }` so we also need the `!important` here to be able to override the default hidden behavior on the sphinx rendered scikit-learn.org. See: https://github.com/scikit-learn/scikit-learn/issues/21755 */display: inline-block !important;position: relative;}#sk-container-id-2 div.sk-text-repr-fallback {display: none;}</style><div id=\"sk-container-id-2\" class=\"sk-top-container\"><div class=\"sk-text-repr-fallback\"><pre>Pipeline(steps=[(&#x27;columntransformer&#x27;,\n",
       "                 ColumnTransformer(remainder=&#x27;passthrough&#x27;,\n",
       "                                   transformers=[(&#x27;pipeline-1&#x27;,\n",
       "                                                  Pipeline(steps=[(&#x27;simpleimputer&#x27;,\n",
       "                                                                   SimpleImputer()),\n",
       "                                                                  (&#x27;standardscaler&#x27;,\n",
       "                                                                   StandardScaler())]),\n",
       "                                                  &lt;sklearn.compose._column_transformer.make_column_selector object at 0x144f1d640&gt;),\n",
       "                                                 (&#x27;pipeline-2&#x27;,\n",
       "                                                  Pipeline(steps=[(&#x27;onehotencoder&#x27;,\n",
       "                                                                   OneHotEncoder(handle_unknown=&#x27;ignore&#x27;,\n",
       "                                                                                 sparse=False))]),\n",
       "                                                  &lt;sklearn.compose._column_transformer.make_column_selector object at 0x144f29400&gt;)])),\n",
       "                (&#x27;decisiontreeclassifier&#x27;,\n",
       "                 DecisionTreeClassifier(max_depth=3))])</pre><b>In a Jupyter environment, please rerun this cell to show the HTML representation or trust the notebook. <br />On GitHub, the HTML representation is unable to render, please try loading this page with nbviewer.org.</b></div><div class=\"sk-container\" hidden><div class=\"sk-item sk-dashed-wrapped\"><div class=\"sk-label-container\"><div class=\"sk-label sk-toggleable\"><input class=\"sk-toggleable__control sk-hidden--visually\" id=\"sk-estimator-id-11\" type=\"checkbox\" ><label for=\"sk-estimator-id-11\" class=\"sk-toggleable__label sk-toggleable__label-arrow\">Pipeline</label><div class=\"sk-toggleable__content\"><pre>Pipeline(steps=[(&#x27;columntransformer&#x27;,\n",
       "                 ColumnTransformer(remainder=&#x27;passthrough&#x27;,\n",
       "                                   transformers=[(&#x27;pipeline-1&#x27;,\n",
       "                                                  Pipeline(steps=[(&#x27;simpleimputer&#x27;,\n",
       "                                                                   SimpleImputer()),\n",
       "                                                                  (&#x27;standardscaler&#x27;,\n",
       "                                                                   StandardScaler())]),\n",
       "                                                  &lt;sklearn.compose._column_transformer.make_column_selector object at 0x144f1d640&gt;),\n",
       "                                                 (&#x27;pipeline-2&#x27;,\n",
       "                                                  Pipeline(steps=[(&#x27;onehotencoder&#x27;,\n",
       "                                                                   OneHotEncoder(handle_unknown=&#x27;ignore&#x27;,\n",
       "                                                                                 sparse=False))]),\n",
       "                                                  &lt;sklearn.compose._column_transformer.make_column_selector object at 0x144f29400&gt;)])),\n",
       "                (&#x27;decisiontreeclassifier&#x27;,\n",
       "                 DecisionTreeClassifier(max_depth=3))])</pre></div></div></div><div class=\"sk-serial\"><div class=\"sk-item sk-dashed-wrapped\"><div class=\"sk-label-container\"><div class=\"sk-label sk-toggleable\"><input class=\"sk-toggleable__control sk-hidden--visually\" id=\"sk-estimator-id-12\" type=\"checkbox\" ><label for=\"sk-estimator-id-12\" class=\"sk-toggleable__label sk-toggleable__label-arrow\">columntransformer: ColumnTransformer</label><div class=\"sk-toggleable__content\"><pre>ColumnTransformer(remainder=&#x27;passthrough&#x27;,\n",
       "                  transformers=[(&#x27;pipeline-1&#x27;,\n",
       "                                 Pipeline(steps=[(&#x27;simpleimputer&#x27;,\n",
       "                                                  SimpleImputer()),\n",
       "                                                 (&#x27;standardscaler&#x27;,\n",
       "                                                  StandardScaler())]),\n",
       "                                 &lt;sklearn.compose._column_transformer.make_column_selector object at 0x144f1d640&gt;),\n",
       "                                (&#x27;pipeline-2&#x27;,\n",
       "                                 Pipeline(steps=[(&#x27;onehotencoder&#x27;,\n",
       "                                                  OneHotEncoder(handle_unknown=&#x27;ignore&#x27;,\n",
       "                                                                sparse=False))]),\n",
       "                                 &lt;sklearn.compose._column_transformer.make_column_selector object at 0x144f29400&gt;)])</pre></div></div></div><div class=\"sk-parallel\"><div class=\"sk-parallel-item\"><div class=\"sk-item\"><div class=\"sk-label-container\"><div class=\"sk-label sk-toggleable\"><input class=\"sk-toggleable__control sk-hidden--visually\" id=\"sk-estimator-id-13\" type=\"checkbox\" ><label for=\"sk-estimator-id-13\" class=\"sk-toggleable__label sk-toggleable__label-arrow\">pipeline-1</label><div class=\"sk-toggleable__content\"><pre>&lt;sklearn.compose._column_transformer.make_column_selector object at 0x144f1d640&gt;</pre></div></div></div><div class=\"sk-serial\"><div class=\"sk-item\"><div class=\"sk-serial\"><div class=\"sk-item\"><div class=\"sk-estimator sk-toggleable\"><input class=\"sk-toggleable__control sk-hidden--visually\" id=\"sk-estimator-id-14\" type=\"checkbox\" ><label for=\"sk-estimator-id-14\" class=\"sk-toggleable__label sk-toggleable__label-arrow\">SimpleImputer</label><div class=\"sk-toggleable__content\"><pre>SimpleImputer()</pre></div></div></div><div class=\"sk-item\"><div class=\"sk-estimator sk-toggleable\"><input class=\"sk-toggleable__control sk-hidden--visually\" id=\"sk-estimator-id-15\" type=\"checkbox\" ><label for=\"sk-estimator-id-15\" class=\"sk-toggleable__label sk-toggleable__label-arrow\">StandardScaler</label><div class=\"sk-toggleable__content\"><pre>StandardScaler()</pre></div></div></div></div></div></div></div></div><div class=\"sk-parallel-item\"><div class=\"sk-item\"><div class=\"sk-label-container\"><div class=\"sk-label sk-toggleable\"><input class=\"sk-toggleable__control sk-hidden--visually\" id=\"sk-estimator-id-16\" type=\"checkbox\" ><label for=\"sk-estimator-id-16\" class=\"sk-toggleable__label sk-toggleable__label-arrow\">pipeline-2</label><div class=\"sk-toggleable__content\"><pre>&lt;sklearn.compose._column_transformer.make_column_selector object at 0x144f29400&gt;</pre></div></div></div><div class=\"sk-serial\"><div class=\"sk-item\"><div class=\"sk-serial\"><div class=\"sk-item\"><div class=\"sk-estimator sk-toggleable\"><input class=\"sk-toggleable__control sk-hidden--visually\" id=\"sk-estimator-id-17\" type=\"checkbox\" ><label for=\"sk-estimator-id-17\" class=\"sk-toggleable__label sk-toggleable__label-arrow\">OneHotEncoder</label><div class=\"sk-toggleable__content\"><pre>OneHotEncoder(handle_unknown=&#x27;ignore&#x27;, sparse=False)</pre></div></div></div></div></div></div></div></div><div class=\"sk-parallel-item\"><div class=\"sk-item\"><div class=\"sk-label-container\"><div class=\"sk-label sk-toggleable\"><input class=\"sk-toggleable__control sk-hidden--visually\" id=\"sk-estimator-id-18\" type=\"checkbox\" ><label for=\"sk-estimator-id-18\" class=\"sk-toggleable__label sk-toggleable__label-arrow\">remainder</label><div class=\"sk-toggleable__content\"><pre>[]</pre></div></div></div><div class=\"sk-serial\"><div class=\"sk-item\"><div class=\"sk-estimator sk-toggleable\"><input class=\"sk-toggleable__control sk-hidden--visually\" id=\"sk-estimator-id-19\" type=\"checkbox\" ><label for=\"sk-estimator-id-19\" class=\"sk-toggleable__label sk-toggleable__label-arrow\">passthrough</label><div class=\"sk-toggleable__content\"><pre>passthrough</pre></div></div></div></div></div></div></div></div><div class=\"sk-item\"><div class=\"sk-estimator sk-toggleable\"><input class=\"sk-toggleable__control sk-hidden--visually\" id=\"sk-estimator-id-20\" type=\"checkbox\" ><label for=\"sk-estimator-id-20\" class=\"sk-toggleable__label sk-toggleable__label-arrow\">DecisionTreeClassifier</label><div class=\"sk-toggleable__content\"><pre>DecisionTreeClassifier(max_depth=3)</pre></div></div></div></div></div></div></div>"
      ],
      "text/plain": [
       "Pipeline(steps=[('columntransformer',\n",
       "                 ColumnTransformer(remainder='passthrough',\n",
       "                                   transformers=[('pipeline-1',\n",
       "                                                  Pipeline(steps=[('simpleimputer',\n",
       "                                                                   SimpleImputer()),\n",
       "                                                                  ('standardscaler',\n",
       "                                                                   StandardScaler())]),\n",
       "                                                  <sklearn.compose._column_transformer.make_column_selector object at 0x144f1d640>),\n",
       "                                                 ('pipeline-2',\n",
       "                                                  Pipeline(steps=[('onehotencoder',\n",
       "                                                                   OneHotEncoder(handle_unknown='ignore',\n",
       "                                                                                 sparse=False))]),\n",
       "                                                  <sklearn.compose._column_transformer.make_column_selector object at 0x144f29400>)])),\n",
       "                ('decisiontreeclassifier',\n",
       "                 DecisionTreeClassifier(max_depth=3))])"
      ]
     },
     "execution_count": 60,
     "metadata": {},
     "output_type": "execute_result"
    }
   ],
   "source": [
    "# Create an instance of the best model \n",
    "dectree = DecisionTreeClassifier(max_depth = 3, min_samples_leaf= 1, min_samples_split= 2)\n",
    "# Create a model pipeline\n",
    "tuned_dectree_pipe = make_pipeline(preprocessor, dectree)\n",
    "# Fit on train data\n",
    "tuned_dectree_pipe.fit(X_train, y_train)"
   ]
  },
  {
   "cell_type": "code",
   "execution_count": 61,
   "metadata": {
    "id": "WrBwAD6BHNLC"
   },
   "outputs": [],
   "source": [
    "# Save the model's predictions for the train dataset\n",
    "dectree_train_predictions = tuned_dectree_pipe.predict(X_train)"
   ]
  },
  {
   "cell_type": "code",
   "execution_count": 62,
   "metadata": {
    "colab": {
     "base_uri": "https://localhost:8080/",
     "height": 435
    },
    "id": "su1Qblv1HV23",
    "outputId": "4e6cff1d-7584-4c70-dfd4-26e9757712b1"
   },
   "outputs": [
    {
     "name": "stdout",
     "output_type": "stream",
     "text": [
      "              precision    recall  f1-score   support\n",
      "\n",
      "           0       0.83      0.97      0.89       374\n",
      "           1       0.79      0.38      0.51       121\n",
      "\n",
      "    accuracy                           0.82       495\n",
      "   macro avg       0.81      0.67      0.70       495\n",
      "weighted avg       0.82      0.82      0.80       495\n",
      "\n"
     ]
    },
    {
     "data": {
      "image/png": "[encoded data removed]",
      "text/plain": [
       "<Figure size 640x480 with 2 Axes>"
      ]
     },
     "metadata": {},
     "output_type": "display_data"
    }
   ],
   "source": [
    "#Create a confusion matrix and get metrics\n",
    "ConfusionMatrixDisplay.from_predictions(y_train, dectree_train_predictions);\n",
    "print(classification_report(y_train, dectree_train_predictions))"
   ]
  },
  {
   "cell_type": "code",
   "execution_count": 63,
   "metadata": {
    "id": "YPmEznVgHeb6"
   },
   "outputs": [],
   "source": [
    "# Save the model's predictions for the test dataset\n",
    "dectree_test_predictions = tuned_dectree_pipe.predict(X_test)"
   ]
  },
  {
   "cell_type": "code",
   "execution_count": 64,
   "metadata": {
    "colab": {
     "base_uri": "https://localhost:8080/",
     "height": 435
    },
    "id": "dqh4Z8NMHjhI",
    "outputId": "c76211df-4276-4fde-bc91-40fc0695fc12"
   },
   "outputs": [
    {
     "name": "stdout",
     "output_type": "stream",
     "text": [
      "              precision    recall  f1-score   support\n",
      "\n",
      "           0       0.81      0.95      0.88       126\n",
      "           1       0.67      0.30      0.41        40\n",
      "\n",
      "    accuracy                           0.80       166\n",
      "   macro avg       0.74      0.63      0.64       166\n",
      "weighted avg       0.78      0.80      0.76       166\n",
      "\n"
     ]
    },
    {
     "data": {
      "image/png": "[encoded data removed]",
      "text/plain": [
       "<Figure size 640x480 with 2 Axes>"
      ]
     },
     "metadata": {},
     "output_type": "display_data"
    }
   ],
   "source": [
    "#Create a confusion matrix and get metrics\n",
    "ConfusionMatrixDisplay.from_predictions(y_test, dectree_test_predictions);\n",
    "print(classification_report(y_test, dectree_test_predictions))"
   ]
  },
  {
   "cell_type": "markdown",
   "metadata": {
    "id": "tcHN2z_GNyWp"
   },
   "source": [
    "- Both the KNN model and the Decision Tree model did not perform very well on the test data. The KNN model had a 75% accuracy and the Decision Tree model had an 80% accuracy, but they both did worse when trying to predict a true positive. This could be a matter of life or death for someone, because they could be at risk for a stroke, but be told by this model that they are not. I would choose the decision tree model to move forward with, as it did correctly predict more true positives on the test data, and had a higher overall accuracy. The model did not perform well because the data was extremely imbalanced."
   ]
  },
  {
   "cell_type": "markdown",
   "metadata": {},
   "source": [
    "## Hypothesis Testing: Does your sex impact the chances of having a stroke?\n",
    "- Null hypothesis: There is no significant difference in the chance of having a stroke between males and females.\n",
    "- Alternative hypothesis: There is a significant difference in the chance of having a stroke between males and females."
   ]
  },
  {
   "cell_type": "code",
   "execution_count": 65,
   "metadata": {},
   "outputs": [
    {
     "name": "stdout",
     "output_type": "stream",
     "text": [
      "<class 'pandas.core.frame.DataFrame'>\n",
      "Int64Index: 661 entries, 2441 to 248\n",
      "Data columns (total 13 columns):\n",
      " #   Column               Non-Null Count  Dtype  \n",
      "---  ------               --------------  -----  \n",
      " 0   gender               661 non-null    object \n",
      " 1   age                  661 non-null    float64\n",
      " 2   hypertension         661 non-null    int64  \n",
      " 3   heart_disease        661 non-null    int64  \n",
      " 4   ever_married         661 non-null    object \n",
      " 5   work_type            661 non-null    object \n",
      " 6   Residence_type       661 non-null    object \n",
      " 7   avg_glucose_level    661 non-null    float64\n",
      " 8   bmi                  621 non-null    float64\n",
      " 9   smoking_status       661 non-null    object \n",
      " 10  stroke               661 non-null    int64  \n",
      " 11  high_or_low_glucose  661 non-null    object \n",
      " 12  high_bmi             661 non-null    object \n",
      "dtypes: float64(3), int64(3), object(7)\n",
      "memory usage: 72.3+ KB\n"
     ]
    }
   ],
   "source": [
    "stroke_df.info()"
   ]
  },
  {
   "cell_type": "code",
   "execution_count": 66,
   "metadata": {},
   "outputs": [
    {
     "data": {
      "text/plain": [
       "0    500\n",
       "1    161\n",
       "Name: stroke, dtype: int64"
      ]
     },
     "execution_count": 66,
     "metadata": {},
     "output_type": "execute_result"
    }
   ],
   "source": [
    "stroke_df['stroke'].value_counts()"
   ]
  },
  {
   "cell_type": "code",
   "execution_count": 69,
   "metadata": {},
   "outputs": [],
   "source": [
    "stroke_df['stroke'] = stroke_df['stroke'].replace( 0 , 'No')\n",
    "stroke_df['stroke'] = stroke_df['stroke'].replace( 1 , 'Yes')"
   ]
  },
  {
   "cell_type": "code",
   "execution_count": 70,
   "metadata": {},
   "outputs": [
    {
     "data": {
      "text/plain": [
       "No     500\n",
       "Yes    161\n",
       "Name: stroke, dtype: int64"
      ]
     },
     "execution_count": 70,
     "metadata": {},
     "output_type": "execute_result"
    }
   ],
   "source": [
    "stroke_df['stroke'].value_counts()"
   ]
  },
  {
   "cell_type": "code",
   "execution_count": 78,
   "metadata": {},
   "outputs": [
    {
     "data": {
      "text/plain": [
       "Female    378\n",
       "Male      283\n",
       "Name: gender, dtype: int64"
      ]
     },
     "execution_count": 78,
     "metadata": {},
     "output_type": "execute_result"
    }
   ],
   "source": [
    "stroke_df['gender'].value_counts()"
   ]
  },
  {
   "cell_type": "markdown",
   "metadata": {},
   "source": [
    "### Chi-Square Test"
   ]
  },
  {
   "cell_type": "code",
   "execution_count": 79,
   "metadata": {},
   "outputs": [
    {
     "data": {
      "text/html": [
       "<div>\n",
       "<style scoped>\n",
       "    .dataframe tbody tr th:only-of-type {\n",
       "        vertical-align: middle;\n",
       "    }\n",
       "\n",
       "    .dataframe tbody tr th {\n",
       "        vertical-align: top;\n",
       "    }\n",
       "\n",
       "    .dataframe thead th {\n",
       "        text-align: right;\n",
       "    }\n",
       "</style>\n",
       "<table border=\"1\" class=\"dataframe\">\n",
       "  <thead>\n",
       "    <tr style=\"text-align: right;\">\n",
       "      <th>stroke</th>\n",
       "      <th>No</th>\n",
       "      <th>Yes</th>\n",
       "    </tr>\n",
       "    <tr>\n",
       "      <th>gender</th>\n",
       "      <th></th>\n",
       "      <th></th>\n",
       "    </tr>\n",
       "  </thead>\n",
       "  <tbody>\n",
       "    <tr>\n",
       "      <th>Female</th>\n",
       "      <td>281</td>\n",
       "      <td>97</td>\n",
       "    </tr>\n",
       "    <tr>\n",
       "      <th>Male</th>\n",
       "      <td>219</td>\n",
       "      <td>64</td>\n",
       "    </tr>\n",
       "  </tbody>\n",
       "</table>\n",
       "</div>"
      ],
      "text/plain": [
       "stroke   No  Yes\n",
       "gender          \n",
       "Female  281   97\n",
       "Male    219   64"
      ]
     },
     "execution_count": 79,
     "metadata": {},
     "output_type": "execute_result"
    }
   ],
   "source": [
    "# calculate the contingency table with pd.cross-tab\n",
    "table = pd.crosstab(stroke_df['gender'], stroke_df['stroke'])\n",
    "table"
   ]
  },
  {
   "cell_type": "code",
   "execution_count": 80,
   "metadata": {},
   "outputs": [],
   "source": [
    "# Run the Test and Save the Output\n",
    "result = stats.chi2_contingency(table)\n",
    "chi2, p, deg_free, expected_vals = result"
   ]
  },
  {
   "cell_type": "code",
   "execution_count": 81,
   "metadata": {},
   "outputs": [
    {
     "name": "stdout",
     "output_type": "stream",
     "text": [
      "0.41716399641299784\n"
     ]
    },
    {
     "data": {
      "text/plain": [
       "False"
      ]
     },
     "execution_count": 81,
     "metadata": {},
     "output_type": "execute_result"
    }
   ],
   "source": [
    "# Print p-value\n",
    "print(p)\n",
    "p<.05"
   ]
  },
  {
   "cell_type": "markdown",
   "metadata": {},
   "source": [
    "- I accept the null hypothesis because p > 0.05\n",
    "- This means that there is no significant difference between males and females when it comes to having a stroke based on this dataset"
   ]
  },
  {
   "cell_type": "code",
   "execution_count": 84,
   "metadata": {},
   "outputs": [
    {
     "data": {
      "image/png": "[encoded data removed]",
      "text/plain": [
       "<Figure size 640x480 with 1 Axes>"
      ]
     },
     "metadata": {},
     "output_type": "display_data"
    }
   ],
   "source": [
    "ax = sns.countplot(data=stroke_df, x='gender',hue='stroke',)\n",
    "ax.set_title(\"Chance of Having a Stroke Between Males and Females\");"
   ]
  }
 ],
 "metadata": {
  "colab": {
   "authorship_tag": "ABX9TyMcAdGfCCrTuqvzGxAa0PK/",
   "include_colab_link": true,
   "provenance": []
  },
  "kernelspec": {
   "display_name": "Python 3 (ipykernel)",
   "language": "python",
   "name": "python3"
  },
  "language_info": {
   "codemirror_mode": {
    "name": "ipython",
    "version": 3
   },
   "file_extension": ".py",
   "mimetype": "text/x-python",
   "name": "python",
   "nbconvert_exporter": "python",
   "pygments_lexer": "ipython3",
   "version": "3.9.15"
  },
  "toc": {
   "base_numbering": 1,
   "nav_menu": {},
   "number_sections": false,
   "sideBar": true,
   "skip_h1_title": false,
   "title_cell": "Table of Contents",
   "title_sidebar": "Contents",
   "toc_cell": false,
   "toc_position": {},
   "toc_section_display": true,
   "toc_window_display": true
  }
 },
 "nbformat": 4,
 "nbformat_minor": 1
}
